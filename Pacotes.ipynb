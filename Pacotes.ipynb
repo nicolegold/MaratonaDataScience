{
  "nbformat": 4,
  "nbformat_minor": 0,
  "metadata": {
    "colab": {
      "name": "Pacotes.ipynb",
      "provenance": [],
      "collapsed_sections": [],
      "include_colab_link": true
    },
    "kernelspec": {
      "name": "python3",
      "display_name": "Python 3"
    }
  },
  "cells": [
    {
      "cell_type": "markdown",
      "metadata": {
        "id": "view-in-github",
        "colab_type": "text"
      },
      "source": [
        "<a href=\"https://colab.research.google.com/github/nicolegold/MaratonaDataScience/blob/master/Pacotes.ipynb\" target=\"_parent\"><img src=\"https://colab.research.google.com/assets/colab-badge.svg\" alt=\"Open In Colab\"/></a>"
      ]
    },
    {
      "cell_type": "markdown",
      "metadata": {
        "id": "baxGZ5L1Ed8T",
        "colab_type": "text"
      },
      "source": [
        "# **>>> Pacotes(libs)**\n",
        "\n",
        "---\n",
        "\n"
      ]
    },
    {
      "cell_type": "code",
      "metadata": {
        "id": "68VEADzyEayX",
        "colab_type": "code",
        "colab": {
          "base_uri": "https://localhost:8080/",
          "height": 51
        },
        "outputId": "b8fea45c-49f1-4190-938c-e12fb4ebcb65"
      },
      "source": [
        "# Antes de importar o módulo/pacote para seu código, ele precisa estar instalado\n",
        "!pip install nltk\n",
        "\n",
        "# em seu terminal você deve usar \"pip install <nome do pacote>\" ou \"conda install <nome do pacote>\""
      ],
      "execution_count": 1,
      "outputs": [
        {
          "output_type": "stream",
          "text": [
            "Requirement already satisfied: nltk in /usr/local/lib/python3.6/dist-packages (3.2.5)\n",
            "Requirement already satisfied: six in /usr/local/lib/python3.6/dist-packages (from nltk) (1.12.0)\n"
          ],
          "name": "stdout"
        }
      ]
    },
    {
      "cell_type": "code",
      "metadata": {
        "id": "myoEzz0YFFlV",
        "colab_type": "code",
        "colab": {}
      },
      "source": [
        "# Pacotes Built-in\n",
        "import random\n",
        "import os \n",
        "import math"
      ],
      "execution_count": 0,
      "outputs": []
    },
    {
      "cell_type": "code",
      "metadata": {
        "id": "fKx1x8-7FaNl",
        "colab_type": "code",
        "colab": {
          "base_uri": "https://localhost:8080/",
          "height": 1000
        },
        "outputId": "cef695c8-fb45-42af-a886-cd281c1da457"
      },
      "source": [
        "# Listar os módulos de random\n",
        "dir(random)"
      ],
      "execution_count": 3,
      "outputs": [
        {
          "output_type": "execute_result",
          "data": {
            "text/plain": [
              "['BPF',\n",
              " 'LOG4',\n",
              " 'NV_MAGICCONST',\n",
              " 'RECIP_BPF',\n",
              " 'Random',\n",
              " 'SG_MAGICCONST',\n",
              " 'SystemRandom',\n",
              " 'TWOPI',\n",
              " '_BuiltinMethodType',\n",
              " '_MethodType',\n",
              " '_Sequence',\n",
              " '_Set',\n",
              " '__all__',\n",
              " '__builtins__',\n",
              " '__cached__',\n",
              " '__doc__',\n",
              " '__file__',\n",
              " '__loader__',\n",
              " '__name__',\n",
              " '__package__',\n",
              " '__spec__',\n",
              " '_acos',\n",
              " '_bisect',\n",
              " '_ceil',\n",
              " '_cos',\n",
              " '_e',\n",
              " '_exp',\n",
              " '_inst',\n",
              " '_itertools',\n",
              " '_log',\n",
              " '_pi',\n",
              " '_random',\n",
              " '_sha512',\n",
              " '_sin',\n",
              " '_sqrt',\n",
              " '_test',\n",
              " '_test_generator',\n",
              " '_urandom',\n",
              " '_warn',\n",
              " 'betavariate',\n",
              " 'choice',\n",
              " 'choices',\n",
              " 'expovariate',\n",
              " 'gammavariate',\n",
              " 'gauss',\n",
              " 'getrandbits',\n",
              " 'getstate',\n",
              " 'lognormvariate',\n",
              " 'normalvariate',\n",
              " 'paretovariate',\n",
              " 'randint',\n",
              " 'random',\n",
              " 'randrange',\n",
              " 'sample',\n",
              " 'seed',\n",
              " 'setstate',\n",
              " 'shuffle',\n",
              " 'triangular',\n",
              " 'uniform',\n",
              " 'vonmisesvariate',\n",
              " 'weibullvariate']"
            ]
          },
          "metadata": {
            "tags": []
          },
          "execution_count": 3
        }
      ]
    },
    {
      "cell_type": "code",
      "metadata": {
        "id": "Gxva0g_qFlkD",
        "colab_type": "code",
        "colab": {
          "base_uri": "https://localhost:8080/",
          "height": 34
        },
        "outputId": "01d8de29-e37a-4ad5-8459-7f4842082c16"
      },
      "source": [
        "# Testar um de seus módulos\n",
        "print(random.choices([\"Windows\",\"Linux\",\"MacOS\"]))"
      ],
      "execution_count": 4,
      "outputs": [
        {
          "output_type": "stream",
          "text": [
            "['MacOS']\n"
          ],
          "name": "stdout"
        }
      ]
    },
    {
      "cell_type": "code",
      "metadata": {
        "id": "m_oK91AcGE2v",
        "colab_type": "code",
        "colab": {
          "base_uri": "https://localhost:8080/",
          "height": 1000
        },
        "outputId": "5eb82cf4-20d4-4236-8821-1aaf3a40439d"
      },
      "source": [
        "# Listar os módulos de os\n",
        "dir(os)"
      ],
      "execution_count": 5,
      "outputs": [
        {
          "output_type": "execute_result",
          "data": {
            "text/plain": [
              "['CLD_CONTINUED',\n",
              " 'CLD_DUMPED',\n",
              " 'CLD_EXITED',\n",
              " 'CLD_TRAPPED',\n",
              " 'DirEntry',\n",
              " 'EX_CANTCREAT',\n",
              " 'EX_CONFIG',\n",
              " 'EX_DATAERR',\n",
              " 'EX_IOERR',\n",
              " 'EX_NOHOST',\n",
              " 'EX_NOINPUT',\n",
              " 'EX_NOPERM',\n",
              " 'EX_NOUSER',\n",
              " 'EX_OK',\n",
              " 'EX_OSERR',\n",
              " 'EX_OSFILE',\n",
              " 'EX_PROTOCOL',\n",
              " 'EX_SOFTWARE',\n",
              " 'EX_TEMPFAIL',\n",
              " 'EX_UNAVAILABLE',\n",
              " 'EX_USAGE',\n",
              " 'F_LOCK',\n",
              " 'F_OK',\n",
              " 'F_TEST',\n",
              " 'F_TLOCK',\n",
              " 'F_ULOCK',\n",
              " 'GRND_NONBLOCK',\n",
              " 'GRND_RANDOM',\n",
              " 'MutableMapping',\n",
              " 'NGROUPS_MAX',\n",
              " 'O_ACCMODE',\n",
              " 'O_APPEND',\n",
              " 'O_ASYNC',\n",
              " 'O_CLOEXEC',\n",
              " 'O_CREAT',\n",
              " 'O_DIRECT',\n",
              " 'O_DIRECTORY',\n",
              " 'O_DSYNC',\n",
              " 'O_EXCL',\n",
              " 'O_LARGEFILE',\n",
              " 'O_NDELAY',\n",
              " 'O_NOATIME',\n",
              " 'O_NOCTTY',\n",
              " 'O_NOFOLLOW',\n",
              " 'O_NONBLOCK',\n",
              " 'O_PATH',\n",
              " 'O_RDONLY',\n",
              " 'O_RDWR',\n",
              " 'O_RSYNC',\n",
              " 'O_SYNC',\n",
              " 'O_TMPFILE',\n",
              " 'O_TRUNC',\n",
              " 'O_WRONLY',\n",
              " 'POSIX_FADV_DONTNEED',\n",
              " 'POSIX_FADV_NOREUSE',\n",
              " 'POSIX_FADV_NORMAL',\n",
              " 'POSIX_FADV_RANDOM',\n",
              " 'POSIX_FADV_SEQUENTIAL',\n",
              " 'POSIX_FADV_WILLNEED',\n",
              " 'PRIO_PGRP',\n",
              " 'PRIO_PROCESS',\n",
              " 'PRIO_USER',\n",
              " 'P_ALL',\n",
              " 'P_NOWAIT',\n",
              " 'P_NOWAITO',\n",
              " 'P_PGID',\n",
              " 'P_PID',\n",
              " 'P_WAIT',\n",
              " 'PathLike',\n",
              " 'RTLD_DEEPBIND',\n",
              " 'RTLD_GLOBAL',\n",
              " 'RTLD_LAZY',\n",
              " 'RTLD_LOCAL',\n",
              " 'RTLD_NODELETE',\n",
              " 'RTLD_NOLOAD',\n",
              " 'RTLD_NOW',\n",
              " 'R_OK',\n",
              " 'SCHED_BATCH',\n",
              " 'SCHED_FIFO',\n",
              " 'SCHED_IDLE',\n",
              " 'SCHED_OTHER',\n",
              " 'SCHED_RESET_ON_FORK',\n",
              " 'SCHED_RR',\n",
              " 'SEEK_CUR',\n",
              " 'SEEK_DATA',\n",
              " 'SEEK_END',\n",
              " 'SEEK_HOLE',\n",
              " 'SEEK_SET',\n",
              " 'ST_APPEND',\n",
              " 'ST_MANDLOCK',\n",
              " 'ST_NOATIME',\n",
              " 'ST_NODEV',\n",
              " 'ST_NODIRATIME',\n",
              " 'ST_NOEXEC',\n",
              " 'ST_NOSUID',\n",
              " 'ST_RDONLY',\n",
              " 'ST_RELATIME',\n",
              " 'ST_SYNCHRONOUS',\n",
              " 'ST_WRITE',\n",
              " 'TMP_MAX',\n",
              " 'WCONTINUED',\n",
              " 'WCOREDUMP',\n",
              " 'WEXITED',\n",
              " 'WEXITSTATUS',\n",
              " 'WIFCONTINUED',\n",
              " 'WIFEXITED',\n",
              " 'WIFSIGNALED',\n",
              " 'WIFSTOPPED',\n",
              " 'WNOHANG',\n",
              " 'WNOWAIT',\n",
              " 'WSTOPPED',\n",
              " 'WSTOPSIG',\n",
              " 'WTERMSIG',\n",
              " 'WUNTRACED',\n",
              " 'W_OK',\n",
              " 'XATTR_CREATE',\n",
              " 'XATTR_REPLACE',\n",
              " 'XATTR_SIZE_MAX',\n",
              " 'X_OK',\n",
              " '_Environ',\n",
              " '__all__',\n",
              " '__builtins__',\n",
              " '__cached__',\n",
              " '__doc__',\n",
              " '__file__',\n",
              " '__loader__',\n",
              " '__name__',\n",
              " '__package__',\n",
              " '__spec__',\n",
              " '_execvpe',\n",
              " '_exists',\n",
              " '_exit',\n",
              " '_fspath',\n",
              " '_fwalk',\n",
              " '_get_exports_list',\n",
              " '_putenv',\n",
              " '_spawnvef',\n",
              " '_unsetenv',\n",
              " '_wrap_close',\n",
              " 'abc',\n",
              " 'abort',\n",
              " 'access',\n",
              " 'altsep',\n",
              " 'chdir',\n",
              " 'chmod',\n",
              " 'chown',\n",
              " 'chroot',\n",
              " 'close',\n",
              " 'closerange',\n",
              " 'confstr',\n",
              " 'confstr_names',\n",
              " 'cpu_count',\n",
              " 'ctermid',\n",
              " 'curdir',\n",
              " 'defpath',\n",
              " 'device_encoding',\n",
              " 'devnull',\n",
              " 'dup',\n",
              " 'dup2',\n",
              " 'environ',\n",
              " 'environb',\n",
              " 'errno',\n",
              " 'error',\n",
              " 'execl',\n",
              " 'execle',\n",
              " 'execlp',\n",
              " 'execlpe',\n",
              " 'execv',\n",
              " 'execve',\n",
              " 'execvp',\n",
              " 'execvpe',\n",
              " 'extsep',\n",
              " 'fchdir',\n",
              " 'fchmod',\n",
              " 'fchown',\n",
              " 'fdatasync',\n",
              " 'fdopen',\n",
              " 'fork',\n",
              " 'forkpty',\n",
              " 'fpathconf',\n",
              " 'fsdecode',\n",
              " 'fsencode',\n",
              " 'fspath',\n",
              " 'fstat',\n",
              " 'fstatvfs',\n",
              " 'fsync',\n",
              " 'ftruncate',\n",
              " 'fwalk',\n",
              " 'get_blocking',\n",
              " 'get_exec_path',\n",
              " 'get_inheritable',\n",
              " 'get_terminal_size',\n",
              " 'getcwd',\n",
              " 'getcwdb',\n",
              " 'getegid',\n",
              " 'getenv',\n",
              " 'getenvb',\n",
              " 'geteuid',\n",
              " 'getgid',\n",
              " 'getgrouplist',\n",
              " 'getgroups',\n",
              " 'getloadavg',\n",
              " 'getlogin',\n",
              " 'getpgid',\n",
              " 'getpgrp',\n",
              " 'getpid',\n",
              " 'getppid',\n",
              " 'getpriority',\n",
              " 'getrandom',\n",
              " 'getresgid',\n",
              " 'getresuid',\n",
              " 'getsid',\n",
              " 'getuid',\n",
              " 'getxattr',\n",
              " 'initgroups',\n",
              " 'isatty',\n",
              " 'kill',\n",
              " 'killpg',\n",
              " 'lchown',\n",
              " 'linesep',\n",
              " 'link',\n",
              " 'listdir',\n",
              " 'listxattr',\n",
              " 'lockf',\n",
              " 'lseek',\n",
              " 'lstat',\n",
              " 'major',\n",
              " 'makedev',\n",
              " 'makedirs',\n",
              " 'minor',\n",
              " 'mkdir',\n",
              " 'mkfifo',\n",
              " 'mknod',\n",
              " 'name',\n",
              " 'nice',\n",
              " 'open',\n",
              " 'openpty',\n",
              " 'pardir',\n",
              " 'path',\n",
              " 'pathconf',\n",
              " 'pathconf_names',\n",
              " 'pathsep',\n",
              " 'pipe',\n",
              " 'pipe2',\n",
              " 'popen',\n",
              " 'posix_fadvise',\n",
              " 'posix_fallocate',\n",
              " 'pread',\n",
              " 'putenv',\n",
              " 'pwrite',\n",
              " 'read',\n",
              " 'readlink',\n",
              " 'readv',\n",
              " 'remove',\n",
              " 'removedirs',\n",
              " 'removexattr',\n",
              " 'rename',\n",
              " 'renames',\n",
              " 'replace',\n",
              " 'rmdir',\n",
              " 'scandir',\n",
              " 'sched_get_priority_max',\n",
              " 'sched_get_priority_min',\n",
              " 'sched_getaffinity',\n",
              " 'sched_getparam',\n",
              " 'sched_getscheduler',\n",
              " 'sched_param',\n",
              " 'sched_rr_get_interval',\n",
              " 'sched_setaffinity',\n",
              " 'sched_setparam',\n",
              " 'sched_setscheduler',\n",
              " 'sched_yield',\n",
              " 'sendfile',\n",
              " 'sep',\n",
              " 'set_blocking',\n",
              " 'set_inheritable',\n",
              " 'setegid',\n",
              " 'seteuid',\n",
              " 'setgid',\n",
              " 'setgroups',\n",
              " 'setpgid',\n",
              " 'setpgrp',\n",
              " 'setpriority',\n",
              " 'setregid',\n",
              " 'setresgid',\n",
              " 'setresuid',\n",
              " 'setreuid',\n",
              " 'setsid',\n",
              " 'setuid',\n",
              " 'setxattr',\n",
              " 'spawnl',\n",
              " 'spawnle',\n",
              " 'spawnlp',\n",
              " 'spawnlpe',\n",
              " 'spawnv',\n",
              " 'spawnve',\n",
              " 'spawnvp',\n",
              " 'spawnvpe',\n",
              " 'st',\n",
              " 'stat',\n",
              " 'stat_float_times',\n",
              " 'stat_result',\n",
              " 'statvfs',\n",
              " 'statvfs_result',\n",
              " 'strerror',\n",
              " 'supports_bytes_environ',\n",
              " 'supports_dir_fd',\n",
              " 'supports_effective_ids',\n",
              " 'supports_fd',\n",
              " 'supports_follow_symlinks',\n",
              " 'symlink',\n",
              " 'sync',\n",
              " 'sys',\n",
              " 'sysconf',\n",
              " 'sysconf_names',\n",
              " 'system',\n",
              " 'tcgetpgrp',\n",
              " 'tcsetpgrp',\n",
              " 'terminal_size',\n",
              " 'times',\n",
              " 'times_result',\n",
              " 'truncate',\n",
              " 'ttyname',\n",
              " 'umask',\n",
              " 'uname',\n",
              " 'uname_result',\n",
              " 'unlink',\n",
              " 'unsetenv',\n",
              " 'urandom',\n",
              " 'utime',\n",
              " 'wait',\n",
              " 'wait3',\n",
              " 'wait4',\n",
              " 'waitid',\n",
              " 'waitid_result',\n",
              " 'waitpid',\n",
              " 'walk',\n",
              " 'write',\n",
              " 'writev']"
            ]
          },
          "metadata": {
            "tags": []
          },
          "execution_count": 5
        }
      ]
    },
    {
      "cell_type": "code",
      "metadata": {
        "id": "RrvpstplGM71",
        "colab_type": "code",
        "colab": {
          "base_uri": "https://localhost:8080/",
          "height": 34
        },
        "outputId": "39b712dd-f62b-4944-a28b-c689f83aba2b"
      },
      "source": [
        "# Testando um de seus módulos\n",
        "os.getcwd()"
      ],
      "execution_count": 6,
      "outputs": [
        {
          "output_type": "execute_result",
          "data": {
            "text/plain": [
              "'/content'"
            ]
          },
          "metadata": {
            "tags": []
          },
          "execution_count": 6
        }
      ]
    },
    {
      "cell_type": "code",
      "metadata": {
        "id": "ZcD699V5GULn",
        "colab_type": "code",
        "colab": {
          "base_uri": "https://localhost:8080/",
          "height": 935
        },
        "outputId": "0e3130bf-0a74-42df-d5b8-8657f1a64392"
      },
      "source": [
        "# Listar os módulos de math\n",
        "dir(math)"
      ],
      "execution_count": 7,
      "outputs": [
        {
          "output_type": "execute_result",
          "data": {
            "text/plain": [
              "['__doc__',\n",
              " '__loader__',\n",
              " '__name__',\n",
              " '__package__',\n",
              " '__spec__',\n",
              " 'acos',\n",
              " 'acosh',\n",
              " 'asin',\n",
              " 'asinh',\n",
              " 'atan',\n",
              " 'atan2',\n",
              " 'atanh',\n",
              " 'ceil',\n",
              " 'copysign',\n",
              " 'cos',\n",
              " 'cosh',\n",
              " 'degrees',\n",
              " 'e',\n",
              " 'erf',\n",
              " 'erfc',\n",
              " 'exp',\n",
              " 'expm1',\n",
              " 'fabs',\n",
              " 'factorial',\n",
              " 'floor',\n",
              " 'fmod',\n",
              " 'frexp',\n",
              " 'fsum',\n",
              " 'gamma',\n",
              " 'gcd',\n",
              " 'hypot',\n",
              " 'inf',\n",
              " 'isclose',\n",
              " 'isfinite',\n",
              " 'isinf',\n",
              " 'isnan',\n",
              " 'ldexp',\n",
              " 'lgamma',\n",
              " 'log',\n",
              " 'log10',\n",
              " 'log1p',\n",
              " 'log2',\n",
              " 'modf',\n",
              " 'nan',\n",
              " 'pi',\n",
              " 'pow',\n",
              " 'radians',\n",
              " 'sin',\n",
              " 'sinh',\n",
              " 'sqrt',\n",
              " 'tan',\n",
              " 'tanh',\n",
              " 'tau',\n",
              " 'trunc']"
            ]
          },
          "metadata": {
            "tags": []
          },
          "execution_count": 7
        }
      ]
    },
    {
      "cell_type": "code",
      "metadata": {
        "id": "kimd_K03GZZV",
        "colab_type": "code",
        "colab": {
          "base_uri": "https://localhost:8080/",
          "height": 34
        },
        "outputId": "1811417a-8c26-46c7-d1e3-403d9a6e934c"
      },
      "source": [
        "print(math.pi)"
      ],
      "execution_count": 8,
      "outputs": [
        {
          "output_type": "stream",
          "text": [
            "3.141592653589793\n"
          ],
          "name": "stdout"
        }
      ]
    }
  ]
}
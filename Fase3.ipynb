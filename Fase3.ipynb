{
  "nbformat": 4,
  "nbformat_minor": 0,
  "metadata": {
    "colab": {
      "name": "Fase3.ipynb",
      "provenance": [],
      "collapsed_sections": [],
      "include_colab_link": true
    },
    "kernelspec": {
      "name": "python3",
      "display_name": "Python 3"
    }
  },
  "cells": [
    {
      "cell_type": "markdown",
      "metadata": {
        "id": "view-in-github",
        "colab_type": "text"
      },
      "source": [
        "<a href=\"https://colab.research.google.com/github/nicolegold/MaratonaDataScience/blob/master/Fase3.ipynb\" target=\"_parent\"><img src=\"https://colab.research.google.com/assets/colab-badge.svg\" alt=\"Open In Colab\"/></a>"
      ]
    },
    {
      "cell_type": "markdown",
      "metadata": {
        "id": "CYNAmoj4zSXl",
        "colab_type": "text"
      },
      "source": [
        "Crie um algoritmo em Python que peça uma nota, entre zero e 100. Mostre uma mensagem caso o valor seja inválido e continue pedindo até que o usuário informe um valor válido."
      ]
    },
    {
      "cell_type": "code",
      "metadata": {
        "id": "AzEvMe1RuByV",
        "colab_type": "code",
        "outputId": "39fd3f69-ab76-4c2f-a38b-49903a6dd98b",
        "colab": {
          "base_uri": "https://localhost:8080/",
          "height": 85
        }
      },
      "source": [
        "nota = int(input(\"Informe uma nota: \"))\n",
        "while nota<0 or nota>100:\n",
        "  print(\"A nota deve ser entre 0 e 100! Tente novamente\")\n",
        "  int(input(\"Informe uma nova nota: \"))\n",
        "  if nota>0 or nota<100:\n",
        "    break\n",
        "if nota>0 or nota<100:\n",
        "  print('Nota okay!')\n"
      ],
      "execution_count": 0,
      "outputs": [
        {
          "output_type": "stream",
          "text": [
            "Informe uma nota: 852\n",
            "A nota deve ser entre 0 e 100! Tente novamente\n",
            "Informe uma nova nota: 45\n",
            "Nota okay!\n"
          ],
          "name": "stdout"
        }
      ]
    },
    {
      "cell_type": "markdown",
      "metadata": {
        "id": "gdMis92izSmQ",
        "colab_type": "text"
      },
      "source": [
        "Crie um algoritmo em Python que leia um nome de usuário e a sua senha e não aceite a senha igual ao nome do usuário, mostrando uma mensagem de erro e voltando a pedir as informações.<br>"
      ]
    },
    {
      "cell_type": "code",
      "metadata": {
        "id": "BFpWkdCBz_zh",
        "colab_type": "code",
        "outputId": "b673e49a-3c9b-469f-e322-5d3911534220",
        "colab": {
          "base_uri": "https://localhost:8080/",
          "height": 68
        }
      },
      "source": [
        "usuario = input(\"Informe um nome de usuário: \")\n",
        "senha = input(\"Informe uma senha: \")\n",
        "while usuario==senha:\n",
        "  print('A senha não pode ser igual ao nome de usuário. Tente novamente!')\n",
        "  senha = input(\"Informe uma nova senha: \")\n",
        "if usuario!=senha:\n",
        "  print('Usuário e Senha OK')"
      ],
      "execution_count": 0,
      "outputs": [
        {
          "output_type": "stream",
          "text": [
            "Informe um nome de usuário: nic\n",
            "Informe uma senha: 123\n",
            "Usuário e Senha OK\n"
          ],
          "name": "stdout"
        }
      ]
    },
    {
      "cell_type": "markdown",
      "metadata": {
        "id": "E_0l_Vx6zSo2",
        "colab_type": "text"
      },
      "source": [
        "Crie um algoritmo em Python que leia e valide as seguintes informações:\n",
        "* Nome: maior que 3 caracteres;\n",
        "* Idade: entre 0 e 150;\n",
        "* Salário: maior que zero;\n",
        "* Sexo: 'f' ou 'm';\n",
        "* Estado Civil: 's', 'c', 'v', 'd';"
      ]
    },
    {
      "cell_type": "code",
      "metadata": {
        "id": "WHjyzqGpzJaL",
        "colab_type": "code",
        "colab": {}
      },
      "source": [
        "nome = input(\"Nome: \")\n",
        "while len(nome)>3:\n",
        "  print('Erro! Informe um nome com 3 letras')\n",
        "  nome = input(\"Nome: \")\n",
        "idade = int(input(\"Idade: \"))\n",
        "while idade<0 or idade>150:\n",
        "  print('A idade precisa ser entre 0 e 150. Tente novamente!')\n",
        "  idade = int(input(\"Idade: \"))\n",
        "salario = float(input(\"Salário: \"))\n",
        "while salario<0:\n",
        "  print('O salário precisa ser maior que 0. Tente novamente!')\n",
        "  salario = float(input(\"Salário: \"))\n",
        "print('f para feminino e m para masculino')\n",
        "sexo = input(\"Sexo:\")\n",
        "if sexo !='f' and sexo!='m':\n",
        "  print('Erro! f para feminino e m para masculino')\n",
        "  sexo = str(input(\"Sexo:\"))\n",
        "print('s para solteiro, c para casado, v para viuvo e d para divorciado')\n",
        "estadocivil = input(\"Estado Civil: \")\n",
        "if estadocivil !='s' and estadocivil!='c' and estadocivil !='v' and estadocivil!='d':\n",
        "  print('Erro! s para solteiro, c para casado, v para viuvo e d para divorciado')\n",
        "  estadocivil = input(\"Estado Civil: \")\n",
        "\n",
        "print(f\"Suas informações:\\n NOME:{nome}\\n IDADE:{idade}\\n SALÁRIO: R${salario}\\n SEXO: {sexo}\\n ESTADO CIVIL: {estadocivil}\")"
      ],
      "execution_count": 0,
      "outputs": []
    },
    {
      "cell_type": "markdown",
      "metadata": {
        "id": "1i4VCiiczSrL",
        "colab_type": "text"
      },
      "source": [
        "Supondo que a população de um país A seja da ordem de 80000 habitantes com uma taxa anual de crescimento de 3% e que a população de B seja 200000 habitantes com uma taxa de crescimento de 1.5%.<br><br> Crie um algoritmo em Python que calcule e escreva o número de anos necessários para que a população do país A ultrapasse ou iguale a população do país B, mantidas as taxas de crescimento."
      ]
    },
    {
      "cell_type": "code",
      "metadata": {
        "id": "yoW67hjA0BHy",
        "colab_type": "code",
        "outputId": "546b6e3b-416b-4b79-9232-8e71b5f8a7d7",
        "colab": {
          "base_uri": "https://localhost:8080/",
          "height": 68
        }
      },
      "source": [
        "a = 80000\n",
        "b = 200000\n",
        "anos = 0\n",
        "taxaA = 0.03\n",
        "taxaB = 0.015\n",
        "\n",
        "while a<b:\n",
        "  anos+=1\n",
        "  a = a + (a * taxaA)\n",
        "  b = b + (b * taxaB)\n",
        "print(\"Após %i anos o país A ultrapassou o país B em número de habitantes.\" % anos)\n",
        "print(\"País A: %.0f\" % a)\n",
        "print(\"País B: %.0f\" % b)"
      ],
      "execution_count": 0,
      "outputs": [
        {
          "output_type": "stream",
          "text": [
            "Após 63 anos o país A ultrapassou o país B em número de habitantes.\n",
            "País A: 515033\n",
            "País B: 510964\n"
          ],
          "name": "stdout"
        }
      ]
    },
    {
      "cell_type": "markdown",
      "metadata": {
        "id": "4ep7kezvzStO",
        "colab_type": "text"
      },
      "source": [
        "Desenvolva um gerador de tabuada, capaz de gerar a tabuada de qualquer número inteiro entre 1 a 10. O usuário deve informar de qual numero ele deseja ver a tabuada. A saída deve ser conforme o exemplo abaixo:\n",
        "Tabuada de 5:<br>\n",
        "5 X 1 = 5<br>\n",
        "5 X 2 = 10<br>\n",
        "...<br>\n",
        "5 X 10 = 50<br>"
      ]
    },
    {
      "cell_type": "code",
      "metadata": {
        "id": "6K6IHWdr0Blt",
        "colab_type": "code",
        "outputId": "8730039d-af96-4415-8840-c5be2dcab9ef",
        "colab": {
          "base_uri": "https://localhost:8080/",
          "height": 272
        }
      },
      "source": [
        "print('GERADOR DE TABUADA')\n",
        "x=0\n",
        "n = int(input(\"Informe o numero: \"))\n",
        "if n<=0 or n>10:\n",
        "  print('O número deve ser entre 1 e 10! Tente novamente')\n",
        "  n = int(input(\"Informe o numero: \"))\n",
        "while x <= 10:\n",
        "  print(n*x)\n",
        "  x = x+1"
      ],
      "execution_count": 0,
      "outputs": [
        {
          "output_type": "stream",
          "text": [
            "GERADOR DE TABUADA\n",
            "Informe o numero: 88\n",
            "O número deve ser entre 1 e 10! Tente novamente\n",
            "Informe o numero: 10\n",
            "0\n",
            "10\n",
            "20\n",
            "30\n",
            "40\n",
            "50\n",
            "60\n",
            "70\n",
            "80\n",
            "90\n",
            "100\n"
          ],
          "name": "stdout"
        }
      ]
    },
    {
      "cell_type": "markdown",
      "metadata": {
        "id": "u6__NaXqzeYg",
        "colab_type": "text"
      },
      "source": [
        "Crie um algoritmo em Python que leia três números e mostre o maior e o menor deles."
      ]
    },
    {
      "cell_type": "code",
      "metadata": {
        "id": "mm2L7g3x0Cfx",
        "colab_type": "code",
        "outputId": "c3654e0f-9ebf-4f0a-ee26-d5783f513ec3",
        "colab": {
          "base_uri": "https://localhost:8080/",
          "height": 102
        }
      },
      "source": [
        "n1 = float(input(\"Informe o 1o numero: \"))\n",
        "n2 = float(input(\"Informe o 2o numero: \"))\n",
        "n3 = float(input(\"Informe o 3o numero: \"))\n",
        "\n",
        "if n1>n2 and n1>n3:\n",
        "  print(f\"{n1} é o maior\")\n",
        "if n2>n1 and n2>n3:\n",
        "  print(f\"{n2} é o maior\")\n",
        "if n3>n1 and n3>n2:\n",
        "  print(f\"{n3} é o maior\")\n",
        "\n",
        "if n1<n2 and n1<n3:\n",
        "  print(f\"e {n1} é o menor\")\n",
        "if n2<n1 and n2<n3:\n",
        "  print(f\"e {n2} é o menor\")\n",
        "if n3<n1 and n3<n2:\n",
        "  print(f\"e {n3} é o menor\")"
      ],
      "execution_count": 0,
      "outputs": [
        {
          "output_type": "stream",
          "text": [
            "Informe o 1o numero: 1\n",
            "Informe o 2o numero: 5\n",
            "Informe o 3o numero: 8\n",
            "8.0 é o maior\n",
            "e 1.0 é o menor\n"
          ],
          "name": "stdout"
        }
      ]
    },
    {
      "cell_type": "markdown",
      "metadata": {
        "id": "lIlfG-ATzgOr",
        "colab_type": "text"
      },
      "source": [
        "Crie um algoritmo em Python que peça 2 números, base e expoente, calcule e mostre o primeiro número elevado ao segundo número. Não utilize a função de potência da linguagem."
      ]
    },
    {
      "cell_type": "code",
      "metadata": {
        "id": "-y4pB6br0DD_",
        "colab_type": "code",
        "outputId": "fa78acbe-2d20-464c-9ee6-fc74d3410f8b",
        "colab": {
          "base_uri": "https://localhost:8080/",
          "height": 68
        }
      },
      "source": [
        "base = float(input(\"Informe a base do numero: \"))\n",
        "expoente = float(input(\"Informe o expoente do numero: \"))\n",
        "\n",
        "x = base**expoente\n",
        "print(f\"{base} elevado a {expoente} resulta em:\", x)"
      ],
      "execution_count": 0,
      "outputs": [
        {
          "output_type": "stream",
          "text": [
            "Informe a base do numero: 5\n",
            "Informe o expoente do numero: 5\n",
            "5.0 elevado a 5.0 resulta em: 3125.0\n"
          ],
          "name": "stdout"
        }
      ]
    },
    {
      "cell_type": "markdown",
      "metadata": {
        "id": "Vj4OXsJQziu_",
        "colab_type": "text"
      },
      "source": [
        "Crie um algoritmo em Python que peça 10 números inteiros, calcule e mostre a quantidade de números pares e a quantidade de números impares."
      ]
    },
    {
      "cell_type": "code",
      "metadata": {
        "id": "92V7PbzQDEHR",
        "colab_type": "code",
        "colab": {}
      },
      "source": [
        "pares = 0\n",
        "for x in range(10):\n",
        "  n = int(input(\"Digite um número:\"))\n",
        "  if (n % 2 == 0):\n",
        "    pares = pares + 1\n",
        "    print(pares, \"números pares\")\n",
        "    print((10 - pares), \"números ímpares\")\n"
      ],
      "execution_count": 0,
      "outputs": []
    },
    {
      "cell_type": "markdown",
      "metadata": {
        "id": "e7id8Ewgzlow",
        "colab_type": "text"
      },
      "source": [
        "Um funcionário de uma empresa recebe aumento salarial anualmente: Sabe-se que:\n",
        "Esse funcionário foi contratado em 1995, com salário inicial de R$ 1.000,00;\n",
        "Em 1996 recebeu aumento de 1,5% sobre seu salário inicial;\n",
        "A partir de 1997 (inclusive), os aumentos salariais sempre correspondem ao dobro do percentual do ano anterior. Crie um algoritmo em Python que determine o salário atual desse funcionário. Após concluir isto, altere o programa permitindo que o usuário digite o salário inicial do funcionário."
      ]
    },
    {
      "cell_type": "code",
      "metadata": {
        "id": "Kl0ainsv0Eif",
        "colab_type": "code",
        "outputId": "bf2da4d4-243a-418d-a86e-9b1c00f2e60d",
        "colab": {
          "base_uri": "https://localhost:8080/",
          "height": 34
        }
      },
      "source": [
        "salario = 1000\n",
        "ano = 1996\n",
        "while ano <= 2020:\n",
        "    salario *= 1.015\n",
        "    ano += 1\n",
        "print(\"{0:.2f}\".format(salario, 2))"
      ],
      "execution_count": 0,
      "outputs": [
        {
          "output_type": "stream",
          "text": [
            "1450.95\n"
          ],
          "name": "stdout"
        }
      ]
    },
    {
      "cell_type": "markdown",
      "metadata": {
        "id": "5u9i4kzm-itX",
        "colab_type": "text"
      },
      "source": [
        "Crie um algoritmo em Python com uma função que necessite de um argumento. A função retorna o valor de caractere ‘P’, se seu argumento for positivo, e ‘N’, se seu argumento for zero ou negativo."
      ]
    },
    {
      "cell_type": "code",
      "metadata": {
        "id": "WNt8CLa2-rGt",
        "colab_type": "code",
        "outputId": "3b636d70-e644-4944-d4e3-a5fd8759390a",
        "colab": {
          "base_uri": "https://localhost:8080/",
          "height": 51
        }
      },
      "source": [
        "def numero(x):\n",
        "  if x > 0:\n",
        "    print('P')\n",
        "  elif x == 0:\n",
        "    print('N')\n",
        "  else:\n",
        "    print('N')\n",
        "\n",
        "x = int(input('Digite seu número: '))\n",
        "numero(x)"
      ],
      "execution_count": 0,
      "outputs": [
        {
          "output_type": "stream",
          "text": [
            "Digite seu número: 5\n",
            "P\n"
          ],
          "name": "stdout"
        }
      ]
    },
    {
      "cell_type": "markdown",
      "metadata": {
        "id": "CHiYMSOJ-rSY",
        "colab_type": "text"
      },
      "source": [
        "Construa uma função que receba uma data no formato DD/MM/AAAA e devolva uma string no formato D de mesPorExtenso de AAAA. Opcionalmente, valide a data e retorne NULL caso a data seja inválida."
      ]
    },
    {
      "cell_type": "code",
      "metadata": {
        "id": "6Ukxx6gQ-r4-",
        "colab_type": "code",
        "outputId": "22a27abe-a79f-4273-d95d-e5d8a667e372",
        "colab": {
          "base_uri": "https://localhost:8080/",
          "height": 68
        }
      },
      "source": [
        "\n",
        "dia, mês, ano = input('Data (dd/mm/aaaa): ').split('/')\n",
        "meses = ['janeiro','fevereiro','março','abril',\n",
        "         'maio','junho','julho','agosto','setembro',\n",
        "         'outubro','novembro','dezembro']\n",
        "\n",
        "print ('Você nasceu em:')\n",
        "print ('%s de %s de %s' %(dia, meses[int(mês) - 1], ano))"
      ],
      "execution_count": 0,
      "outputs": [
        {
          "output_type": "stream",
          "text": [
            "Data (dd/mm/aaaa): 28/06/1996\n",
            "Você nasceu em:\n",
            "28 de junho de 1996\n"
          ],
          "name": "stdout"
        }
      ]
    },
    {
      "cell_type": "markdown",
      "metadata": {
        "id": "AzUYbZ8A-zj7",
        "colab_type": "text"
      },
      "source": [
        "Crie uma classe que modele uma pessoa:<br>\n",
        "\n",
        "Atributos: nome, idade, peso e altura<br>\n",
        "Métodos: Envelhercer, engordar, emagrecer, crescer.<br>\n",
        "<br>Obs: Por padrão, a cada ano que nossa pessoa envelhece, sendo a idade dela menor que 21 anos, ela deve crescer 0,5 cm."
      ]
    },
    {
      "cell_type": "code",
      "metadata": {
        "id": "HMDXaeEhaA9r",
        "colab_type": "code",
        "outputId": "915c0397-95f8-4c6e-ac39-5da53da965d6",
        "colab": {
          "base_uri": "https://localhost:8080/",
          "height": 34
        }
      },
      "source": [
        "class Pessoa:\n",
        "    def __init__(self, nome: str, idade: int, peso: float, altura: float):\n",
        "        self.nome = nome\n",
        "        self.idade = idade\n",
        "        self.peso = peso\n",
        "        self.altura = altura\n",
        "\n",
        "    def envelhecer(self):\n",
        "        if self.idade < 21:\n",
        "            self.altura += 0.5\n",
        "\n",
        "        self.idade += 1\n",
        "\n",
        "    def engordar(self, peso):\n",
        "        self.peso += peso\n",
        "\n",
        "    def emagrecer(self, peso):\n",
        "        self.peso -= peso\n",
        "\n",
        "    def crescer(self, altura):\n",
        "        self.altura += altura\n",
        "\n",
        "    def mostraPessoa(self):\n",
        "      print(f'Nome: {self.nome}, idade: {self.idade} anos, peso: {self.peso}kg, altura: {self.altura}cm')\n",
        "\n",
        "\n",
        "info = Pessoa('Lana', 19, 65, 1.80)\n",
        "lay.mostraPessoa()\n",
        "lay.envelhecer()\n",
        "lay.emagrecer(3)"
      ],
      "execution_count": 56,
      "outputs": [
        {
          "output_type": "stream",
          "text": [
            "Nome: Lay, idade: 21 anos, peso: 48kg, altura: 164.0cm\n"
          ],
          "name": "stdout"
        }
      ]
    }
  ]
}
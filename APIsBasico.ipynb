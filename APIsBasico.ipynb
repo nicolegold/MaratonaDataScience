{
  "nbformat": 4,
  "nbformat_minor": 0,
  "metadata": {
    "colab": {
      "name": "APIsBasico.ipynb",
      "provenance": [],
      "include_colab_link": true
    },
    "kernelspec": {
      "name": "python3",
      "display_name": "Python 3"
    }
  },
  "cells": [
    {
      "cell_type": "markdown",
      "metadata": {
        "id": "view-in-github",
        "colab_type": "text"
      },
      "source": [
        "<a href=\"https://colab.research.google.com/github/nicolegold/MaratonaDataScience/blob/master/APIsBasico.ipynb\" target=\"_parent\"><img src=\"https://colab.research.google.com/assets/colab-badge.svg\" alt=\"Open In Colab\"/></a>"
      ]
    },
    {
      "cell_type": "markdown",
      "metadata": {
        "id": "RNDx8IXexIET",
        "colab_type": "text"
      },
      "source": [
        "## APIs\n",
        "Interface de Programação de Aplicação, é um conjunto de rotinas e padrões estabelecidos por um software para a utilização das suas funcionalidades por aplicativos que não pretendem envolver-se em detalhes da implementação do software, mas apenas usar seus serviços.\n"
      ]
    },
    {
      "cell_type": "code",
      "metadata": {
        "id": "WeYyyn7-xHSU",
        "colab_type": "code",
        "colab": {
          "base_uri": "https://localhost:8080/",
          "height": 1000
        },
        "outputId": "0892e6b7-d68a-429b-dcc8-c71ca10c2522"
      },
      "source": [
        "# newsapi.org\n",
        "import json\n",
        "import requests\n",
        "\n",
        "try:\n",
        "  req = requests.get('https://newsapi.org/v2/top-headlines?country=br&category=technology&apiKey=be8e91e06d5b42ccbcb887ccbfb001f5')\n",
        "  noticias = json.loads(req.text)\n",
        "  for news in noticias['articles']:\n",
        "    titulo = news['title']\n",
        "    link = news['url']\n",
        "    desc = news['description']\n",
        "    mensagem = f'{titulo}\\n{desc}\\n{link}'\n",
        "    print(mensagem)\n",
        "    print()\n",
        "except Exception as e:\n",
        "  print(f\"Não desta vez! Erro encontrado: {e}\")"
      ],
      "execution_count": 1,
      "outputs": [
        {
          "output_type": "stream",
          "text": [
            "Nova decisão do WhatsApp pode banir usuários do aplicativo de mensagens - Metro Jornal\n",
            "Metro Jornal - 2020/05/09\n",
            "https://www.metrojornal.com.br/estilo-vida/2020/05/09/nova-decisao-whatsapp-pode-banir-usuarios-aplicativo-de-mensagens.html\n",
            "\n",
            "Celulares Samsung dos últimos 6 anos têm falha que dava acesso a hackers - Tilt\n",
            "Se você tem um smartphone Samsung com até seis anos de fabricação, fique esperto. A fabricante está enviando desde a semana passada atualizações de segurança para um problema descoberto em janeiro, mas só anunciado nesta semana.A falha afeta todos os tele\n",
            "https://www.uol.com.br/tilt/noticias/redacao/2020/05/09/todo-samsung-galaxy-estava-desde-2014-com-uma-falha-bem-seria-de-seguranca.htm\n",
            "\n",
            "Square Enix cria bundle com 54 jogos com 95% de desconto na Steam - Adrenaline\n",
            "Pacote traz Rise of The Tomb Raider, Just Cause 3, Deus Ex: Mankind Divided e mais\n",
            "https://adrenaline.com.br/noticias/v/63975/square-enix-cria-bundle-com-54-jogos-por-95-de-desconto-na-steam\n",
            "\n",
            "Depois anos de espera, usuários do Nubank poderão contar com solução muito desejada - Edital Concursos Brasil\n",
            "Está sendo desenvolvida solução própria do Nubank para transações via tecnologia de comunicação por campo de proximidade (NFC). Entenda!\n",
            "https://editalconcursosbrasil.com.br/noticias/2020/05/depois-anos-de-espera-usuarios-do-nubank-poderao-contar-com-solucao-muito-desejada/\n",
            "\n",
            "Mercado de games é superaquecido com isolamento social - Infográficos - Infográficos Estadão\n",
            "None\n",
            "https://news.google.com/__i/rss/rd/articles/CBMib2h0dHBzOi8vd3d3LmVzdGFkYW8uY29tLmJyL2luZm9ncmFmaWNvcy9lY29ub21pYSxtZXJjYWRvLWRlLWdhbWVzLWUtc3VwZXJhcXVlY2lkby1jb20taXNvbGFtZW50by1zb2NpYWwsMTA5MzQ3OdIBAA?oc=5\n",
            "\n",
            "Júpiter se parece com uma bola de fogo nesta imagem ‘de sorte’ em infravermelho - Gizmodo Brasil\n",
            "Pode ser difícil de acreditar, mas esta impressionante imagem infravermelha de Júpiter foi tirada da superfície da Terra, especificamente do Telescópio Gemini Norte, no Havaí. Para chegar nesse resultado, no entanto, foram combinados dados de outros dois inst…\n",
            "https://gizmodo.uol.com.br/?p=353435/\n",
            "\n",
            "Michael Pachter diz que o Xbox Series X custará apenas $400 - Meu Xbox\n",
            "Conhecemos as especificações técnicas do Xbox Series X e do PlayStation 5, sabemos que os dois consoles foram projetados para serem lançados ainda este ano, mas\n",
            "https://meuxbox.com.br/noticias/michael-pachter-diz-que-o-xbox-series-x-custara-apenas-400/\n",
            "\n",
            "HyperX estreia campanha de Dia das Mães com \"histórias que dão jogo\" - Tudocelular.com\n",
            "HyperX, subdivisão da Kingston, estreia campanha de Dia das Mães com histórias interessantes contadas pelas mães de gamers.\n",
            "https://www.tudocelular.com/acessorios/noticias/n156241/hyperx-campanha-dia-das-maes.html\n",
            "\n",
            "Criptomoeda dobra de valor após Vitalik Buterin dizer que quer testá-la - Criptonizando\n",
            "O preço de uma criptomoeda mais que dobrou logo depois que o cofundador da Ethereum (ETH), Vitalik Buterin, disse durante o Ethereal Virtual Summit, na última quinta-feira (07), que pretende testá-la.\n",
            "https://criptonizando.com/2020/05/09/criptomoeda-dobra-de-valor-apos-vitalik-buterin-dizer-que-quer-testa-la/\n",
            "\n",
            "Como esconder conversas no WhatsApp? Cinco dicas para proteger o app - TechTudo\n",
            "Recursos dão proteção extra para os usuários; veja como esconder conversas no WhatsApp\n",
            "https://www.techtudo.com.br/listas/2020/05/como-esconder-conversas-no-whatsapp-cinco-dicas-para-proteger-o-app.ghtml\n",
            "\n",
            "O novo smartphone sustentável e feito com peças recicladas está à venda na NOS - NiT New in Town\n",
            "O Fairphone 3 é um telemóvel 4G modular e está à venda a partir desta sexta-feira, 8 de maio.\n",
            "https://nit.pt/vanity/lojas-e-marcas/novo-smartphone-sustentavel-feito-pecas-recicladas-esta-venda-na-nos\n",
            "\n",
            "Óculos smart da Apple devem ganhar suporte à internet 5G - TechTudo\n",
            "Apple Glasses devem funcionar com lentes corretivas, de acordo com analista.\n",
            "https://www.techtudo.com.br/noticias/2020/05/oculos-smart-da-apple-devem-ganhar-suporte-a-internet-5g.ghtml\n",
            "\n",
            "Pode comemorar! Moto G7 começa a receber atualização para o Android 10 no Brasil - Tudocelular.com\n",
            "Motorola começa a liberar Android 10 para o Moto G7 em maio. Veja os detalhes no artigo a seguir.\n",
            "https://www.tudocelular.com/motorola/noticias/n156238/moto-g7-comeca-android-10-no-brasil.html\n",
            "\n",
            "Melhores TV Box para comprar no Brasil em 2020 - TechTudo\n",
            "Lista inclui fabricantes como Xiaomi, Apple e Aquário, que trazem modelos com resolução 4K\n",
            "https://www.techtudo.com.br/listas/2020/05/melhores-tv-box-para-comprar-no-brasil-em-2020.ghtml\n",
            "\n",
            "Problemas no Wi-Fi? Cinco dicas para melhorar sua conexão de internet - Link Estadão\n",
            "None\n",
            "https://news.google.com/__i/rss/rd/articles/CBMihQFodHRwczovL2xpbmsuZXN0YWRhby5jb20uYnIvbm90aWNpYXMvY3VsdHVyYS1kaWdpdGFsLHByb2JsZW1hcy1uby13aS1maS1jaW5jby1kaWNhcy1wYXJhLW1lbGhvcmFyLXN1YS1jb25leGFvLWRlLWludGVybmV0LDcwMDAzMjk2NzM40gGJAWh0dHBzOi8vbGluay5lc3RhZGFvLmNvbS5ici9ub3RpY2lhcy9jdWx0dXJhLWRpZ2l0YWwscHJvYmxlbWFzLW5vLXdpLWZpLWNpbmNvLWRpY2FzLXBhcmEtbWVsaG9yYXItc3VhLWNvbmV4YW8tZGUtaW50ZXJuZXQsNzAwMDMyOTY3MzguYW1w?oc=5\n",
            "\n",
            "Com halving, bitcoin terá transformação radical na segunda-feira - EXAME\n",
            "O processo de halving da moeda virtual vai diminuir as recompensas dos mineradores da criptomoeda, o que pode afetar o preço do ativo no mercado\n",
            "https://exame.abril.com.br/tecnologia/com-halving-bitcoin-tera-outra-transformacao-radical-na-segunda-feira/\n",
            "\n",
            "TV OLED LG B9: aposta acertada - Tecnoblog\n",
            "TV OLED da LG surpreende pela qualidade de imagem, tem conectividade de sobra e capricha no webOS\n",
            "https://tecnoblog.net/337715/tv-oled-lg-b9-review/\n",
            "\n",
            "Google deixa todos os seus serviços de comunicação sob única gerência - Olhar Digital\n",
            "São muitas opções diferentes que entregam serviços bem semelhantes\n",
            "https://olhardigital.com.br/noticia/google-deixa-todos-os-seus-servicos-de-comunicacao-sob-unica-gerencia/100510\n",
            "\n",
            "Facebook libera novo design na web com modo escuro para todos - Tecnoblog\n",
            "O Facebook começou a liberar o novo visual da rede social, que aproxima o site da versão que já estava em uso em aplicativos para smartphones e tablets.\n",
            "https://tecnoblog.net/337898/facebook-libera-novo-design-na-web-com-modo-escuro-para-todos/\n",
            "\n",
            "Dólar em alta histórica, colapso iminente? - Livecoins\n",
            "Após atingir o valor história de R$7,84, o dólar recuou nessa sexta feira e o Ibovespa voltou a se recuperar com um tímido fôlego.\n",
            "https://livecoins.com.br/dolar-em-alta-colapso-iminente/\n",
            "\n"
          ],
          "name": "stdout"
        }
      ]
    }
  ]
}
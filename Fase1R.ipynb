{
  "nbformat": 4,
  "nbformat_minor": 0,
  "metadata": {
    "colab": {
      "name": "Fase1R.ipynb",
      "provenance": [],
      "include_colab_link": true
    },
    "kernelspec": {
      "name": "ir",
      "display_name": "R"
    }
  },
  "cells": [
    {
      "cell_type": "markdown",
      "metadata": {
        "id": "view-in-github",
        "colab_type": "text"
      },
      "source": [
        "<a href=\"https://colab.research.google.com/github/nicolegold/MaratonaDataScience/blob/master/Fase1R.ipynb\" target=\"_parent\"><img src=\"https://colab.research.google.com/assets/colab-badge.svg\" alt=\"Open In Colab\"/></a>"
      ]
    },
    {
      "cell_type": "markdown",
      "metadata": {
        "id": "Z2Kl9pfj0JKM",
        "colab_type": "text"
      },
      "source": [
        "# Seja ensinável e execute as tarefas compartilhadas. Por fins didáticos e para melhor separação mental das sintaxes Python/R, realizaremos todos os exercícios de Python em R.\n",
        "![alt text](https://media.giphy.com/media/d3mlE7uhX8KFgEmY/200.gif)"
      ]
    },
    {
      "cell_type": "markdown",
      "metadata": {
        "id": "j9ZuOU7Kyh9O",
        "colab_type": "text"
      },
      "source": [
        "Crie um algoritmo em R que mostre a mensagem \"Alo mundo\" na tela."
      ]
    },
    {
      "cell_type": "code",
      "metadata": {
        "id": "tlFupLd-ydTB",
        "colab_type": "code",
        "colab": {
          "base_uri": "https://localhost:8080/",
          "height": 34
        },
        "outputId": "5923b265-dff4-42e0-efce-8f531f86232c"
      },
      "source": [
        "print('Alo mundo')"
      ],
      "execution_count": 1,
      "outputs": [
        {
          "output_type": "stream",
          "text": [
            "[1] \"Alo mundo\"\n"
          ],
          "name": "stdout"
        }
      ]
    },
    {
      "cell_type": "markdown",
      "metadata": {
        "id": "yhw2owA-zbrn",
        "colab_type": "text"
      },
      "source": [
        "Crie um algoritmo em R que peça dois números e imprima a soma."
      ]
    },
    {
      "cell_type": "code",
      "metadata": {
        "id": "RJJtXkvV0qzj",
        "colab_type": "code",
        "colab": {
          "base_uri": "https://localhost:8080/",
          "height": 68
        },
        "outputId": "09a12434-ace9-40ff-a158-47110897ec93"
      },
      "source": [
        "n1 <- readline(prompt = \"Informe o 1o número: \")\n",
        "n1 <- as.integer(n1)\n",
        "n2 <- readline(prompt = \"Informe o 2o número: \")\n",
        "n2 <- as.integer(n2)\n",
        "print(paste(\"A soma dos números é:\",n1+n2))"
      ],
      "execution_count": 59,
      "outputs": [
        {
          "output_type": "stream",
          "text": [
            "Informe o 1o número: 1\n",
            "Informe o 2o número: 2\n",
            "[1] \"A soma dos números é: 3\"\n"
          ],
          "name": "stdout"
        }
      ]
    },
    {
      "cell_type": "markdown",
      "metadata": {
        "id": "35RwPIIF0w3i",
        "colab_type": "text"
      },
      "source": [
        "Crie um algoritmo em R que peça um número e então mostre a mensagem O número informado foi [número]."
      ]
    },
    {
      "cell_type": "code",
      "metadata": {
        "id": "NEFu-8L808HB",
        "colab_type": "code",
        "colab": {
          "base_uri": "https://localhost:8080/",
          "height": 51
        },
        "outputId": "34d81582-a343-407e-a516-d1604682a6f0"
      },
      "source": [
        "n <- readline(prompt = \"Informe um número: \")\n",
        "n <- as.integer(n)\n",
        "print(paste(\"O numero informado foi:\",n))"
      ],
      "execution_count": 12,
      "outputs": [
        {
          "output_type": "stream",
          "text": [
            "Informe um número: 28\n",
            "[1] \"O numero informado foi: 28\"\n"
          ],
          "name": "stdout"
        }
      ]
    },
    {
      "cell_type": "markdown",
      "metadata": {
        "id": "_OGQmoYA08bI",
        "colab_type": "text"
      },
      "source": [
        "Crie um algoritmo em R que converta metros para centímetros."
      ]
    },
    {
      "cell_type": "code",
      "metadata": {
        "id": "xxgmQ5j21Abx",
        "colab_type": "code",
        "colab": {
          "base_uri": "https://localhost:8080/",
          "height": 34
        },
        "outputId": "e211f3b2-9f90-4ab2-e5b2-1047c37da25f"
      },
      "source": [
        "print(paste(\"Convertendo\",n,\"para centímetros: \",n*0.01))"
      ],
      "execution_count": 17,
      "outputs": [
        {
          "output_type": "stream",
          "text": [
            "[1] \"Convertendo 28 para centímetros:  0.28\"\n"
          ],
          "name": "stdout"
        }
      ]
    },
    {
      "cell_type": "markdown",
      "metadata": {
        "id": "kP9TOwKo1AnS",
        "colab_type": "text"
      },
      "source": [
        "Crie um algoritmo em Python que peça as 4 notas bimestrais e mostre a média."
      ]
    },
    {
      "cell_type": "code",
      "metadata": {
        "id": "Tj5xsjC-1D5I",
        "colab_type": "code",
        "colab": {
          "base_uri": "https://localhost:8080/",
          "height": 102
        },
        "outputId": "941bfe9e-55e8-4764-f319-54b6b9249429"
      },
      "source": [
        "n1 <- readline(prompt = \"Informe o 1o número: \")\n",
        "n1 <- as.numeric(n1)\n",
        "n2 <- readline(prompt = \"Informe o 2o número: \")\n",
        "n2 <- as.numeric(n2)\n",
        "n3 <- readline(prompt = \"Informe o 3o número: \")\n",
        "n3 <- as.numeric(n3)\n",
        "n4 <- readline(prompt = \"Informe o 4o número: \")\n",
        "n4 <- as.numeric(n4)\n",
        "\n",
        "print(paste(\"A média das 4 notas é: \",(n1+n2+n3+n4)/4))\n"
      ],
      "execution_count": 60,
      "outputs": [
        {
          "output_type": "stream",
          "text": [
            "Informe o 1o número: 4\n",
            "Informe o 2o número: 8.5\n",
            "Informe o 3o número: 6\n",
            "Informe o 4o número: 3.2\n",
            "[1] \"A média das 4 notas é:  5.425\"\n"
          ],
          "name": "stdout"
        }
      ]
    },
    {
      "cell_type": "markdown",
      "metadata": {
        "id": "6vgD9pl81EGd",
        "colab_type": "text"
      },
      "source": [
        "Crie um algoritmo em R que peça o raio de um círculo, calcule e mostre sua área."
      ]
    },
    {
      "cell_type": "code",
      "metadata": {
        "id": "3h1VOEuR1KGz",
        "colab_type": "code",
        "colab": {
          "base_uri": "https://localhost:8080/",
          "height": 51
        },
        "outputId": "4496e127-596f-4534-e759-7d9757adae33"
      },
      "source": [
        "r <- readline(prompt = \"Informe o raio do cículo: \")\n",
        "r <- as.numeric(r)\n",
        "print(paste(\"A área com o raio\",r,\"é: \", 2 * 3.14 * r))"
      ],
      "execution_count": 61,
      "outputs": [
        {
          "output_type": "stream",
          "text": [
            "Informe o raio do cículo: 85\n",
            "[1] \"A área com o raio 85 é:  533.8\"\n"
          ],
          "name": "stdout"
        }
      ]
    },
    {
      "cell_type": "markdown",
      "metadata": {
        "id": "QXhvPnMQ1Kd6",
        "colab_type": "text"
      },
      "source": [
        "Crie um algoritmo em R que calcule a área de um quadrado, em seguida mostre o dobro desta área para o usuário."
      ]
    },
    {
      "cell_type": "code",
      "metadata": {
        "id": "ywZkuhmt1N7l",
        "colab_type": "code",
        "colab": {
          "base_uri": "https://localhost:8080/",
          "height": 51
        },
        "outputId": "9dd4b4dd-076d-4648-dcdb-e28c1c3ac480"
      },
      "source": [
        "q <- readline(prompt = \"Informe o lado do quadrado: \")\n",
        "q <- as.numeric(q)\n",
        "area=q*q\n",
        "print(paste(\"O dobro desta área é: \",2*area))"
      ],
      "execution_count": 62,
      "outputs": [
        {
          "output_type": "stream",
          "text": [
            "Informe o lado do quadrado: 8\n",
            "[1] \"O dobro desta área é:  128\"\n"
          ],
          "name": "stdout"
        }
      ]
    },
    {
      "cell_type": "markdown",
      "metadata": {
        "id": "F-rpjggB1T5G",
        "colab_type": "text"
      },
      "source": [
        "Crie um algoritmo em R que pergunte quanto você ganha por hora e o número de horas trabalhadas no mês. Calcule e mostre o total do seu salário no referido mês.\n"
      ]
    },
    {
      "cell_type": "code",
      "metadata": {
        "id": "nvMchfOZ2_vC",
        "colab_type": "code",
        "colab": {
          "base_uri": "https://localhost:8080/",
          "height": 68
        },
        "outputId": "1187400a-4591-416b-9941-7abe4b9097c0"
      },
      "source": [
        "ganho <- readline(\"Informe quanto vc ganha por hora de trabalho:\")\n",
        "ganho <- as.numeric(ganho)\n",
        "horas <- readline(\"Informe quantas horas vc trabalha por mes:\")\n",
        "horas <- as.numeric(horas)\n",
        "print(paste(\"Seu salário no mês é de:\", ganho*horas,\"reais\"))"
      ],
      "execution_count": 64,
      "outputs": [
        {
          "output_type": "stream",
          "text": [
            "Informe quanto vc ganha por hora de trabalho:15\n",
            "Informe quantas horas vc trabalha por mes:90\n",
            "[1] \"Seu salário no mês é de: 1350 reais\"\n"
          ],
          "name": "stdout"
        }
      ]
    },
    {
      "cell_type": "markdown",
      "metadata": {
        "id": "C-H4OWh03DFn",
        "colab_type": "text"
      },
      "source": [
        "Crie um algoritmo em R que peça a temperatura em graus Farenheit, transforme e mostre a temperatura em graus Celsius.\n",
        "C = (5 * (F-32) / 9)."
      ]
    },
    {
      "cell_type": "code",
      "metadata": {
        "id": "vs5qFAKx3Eyi",
        "colab_type": "code",
        "colab": {
          "base_uri": "https://localhost:8080/",
          "height": 51
        },
        "outputId": "7a8439e1-66f6-4bb0-cf49-792351378e75"
      },
      "source": [
        "f <- readline(\"Informe a temperatura em graus Farenheit: \")\n",
        "f <- as.numeric(f)\n",
        "print(paste(\"Convertendo para graus Celsius:\", (5*(f-32)/9)))"
      ],
      "execution_count": 55,
      "outputs": [
        {
          "output_type": "stream",
          "text": [
            "Informe a temperatura em graus Farenheit: 50\n",
            "[1] \"Convertendo para graus Celsius: 10\"\n"
          ],
          "name": "stdout"
        }
      ]
    },
    {
      "cell_type": "markdown",
      "metadata": {
        "id": "PGccudSo3E54",
        "colab_type": "text"
      },
      "source": [
        "Crie um algoritmo em R que peça a temperatura em graus Celsius, transforme e mostre em graus Farenheit."
      ]
    },
    {
      "cell_type": "code",
      "metadata": {
        "id": "_zfLyopV3IqV",
        "colab_type": "code",
        "colab": {
          "base_uri": "https://localhost:8080/",
          "height": 51
        },
        "outputId": "8831dfac-dcf4-4729-e460-58ee7f37e8b9"
      },
      "source": [
        "c <- readline((\"Informe a temperatura em graus Farenheit: \"))\n",
        "c <- as.numeric(c)\n",
        "print(paste(\"Convertendo para graus Celsius:\", ((c*9/5)+32)))"
      ],
      "execution_count": 58,
      "outputs": [
        {
          "output_type": "stream",
          "text": [
            "Informe a temperatura em graus Farenheit: 10\n",
            "[1] \"Convertendo para graus Celsius: 50\"\n"
          ],
          "name": "stdout"
        }
      ]
    },
    {
      "cell_type": "markdown",
      "metadata": {
        "id": "bu3Zyati3Iwc",
        "colab_type": "text"
      },
      "source": [
        "Crie um algoritmo em R que peça 2 números inteiros e um número real. Calcule e mostre:\n",
        "* a soma do dobro do primeiro com metade do segundo .\n",
        "* a soma do triplo do primeiro com o terceiro.\n",
        "* o terceiro elevado ao cubo."
      ]
    },
    {
      "cell_type": "code",
      "metadata": {
        "id": "Peo4D5Sz3PDC",
        "colab_type": "code",
        "colab": {
          "base_uri": "https://localhost:8080/",
          "height": 119
        },
        "outputId": "305f8b54-012f-47c3-f77d-731b712176db"
      },
      "source": [
        "n1 <- readline(prompt = \"Informe o 1o número: \")\n",
        "n1 <- as.integer(n1)\n",
        "n2 <- readline(prompt = \"Informe o 2o número: \")\n",
        "n2 <- as.integer(n2)\n",
        "n3 <- readline(prompt = \"Informe o 3o número: \")\n",
        "n3 <- as.numeric(n3)\n",
        "\n",
        "print(paste(\":\", ((2*n1)+(n2/3))))\n",
        "print(paste(\":\", ((n1*3)+n3)))\n",
        "print(paste(\":\", (n3**3)))"
      ],
      "execution_count": 46,
      "outputs": [
        {
          "output_type": "stream",
          "text": [
            "Informe o 1o número: 1\n",
            "Informe o 2o número: 2\n",
            "Informe o 3o número: 3\n",
            "[1] \": 2.66666666666667\"\n",
            "[1] \": 6\"\n",
            "[1] \": 27\"\n"
          ],
          "name": "stdout"
        }
      ]
    }
  ]
}
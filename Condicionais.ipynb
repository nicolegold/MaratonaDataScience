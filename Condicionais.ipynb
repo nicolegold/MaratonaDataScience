{
  "nbformat": 4,
  "nbformat_minor": 0,
  "metadata": {
    "colab": {
      "name": "Condicionais.ipynb",
      "provenance": [],
      "private_outputs": true,
      "collapsed_sections": [],
      "include_colab_link": true
    },
    "kernelspec": {
      "name": "python3",
      "display_name": "Python 3"
    },
    "accelerator": "GPU"
  },
  "cells": [
    {
      "cell_type": "markdown",
      "metadata": {
        "id": "view-in-github",
        "colab_type": "text"
      },
      "source": [
        "<a href=\"https://colab.research.google.com/github/nicolegold/MaratonaDataScience/blob/master/Condicionais.ipynb\" target=\"_parent\"><img src=\"https://colab.research.google.com/assets/colab-badge.svg\" alt=\"Open In Colab\"/></a>"
      ]
    },
    {
      "cell_type": "markdown",
      "metadata": {
        "id": "LSPHqVUFckTR",
        "colab_type": "text"
      },
      "source": [
        "# **If**"
      ]
    },
    {
      "cell_type": "code",
      "metadata": {
        "id": "UshFBe_vF_EQ",
        "colab_type": "code",
        "colab": {}
      },
      "source": [
        "x = 10\n",
        "if x > 0:\n",
        "\tprint('Número positivo')\n",
        "else:\n",
        "\tprint('Número negativo')"
      ],
      "execution_count": 0,
      "outputs": []
    },
    {
      "cell_type": "markdown",
      "metadata": {
        "id": "hzFJUWCkp1ik",
        "colab_type": "text"
      },
      "source": [
        "# **Conectivos Lógicos**\n",
        "![alt text](http://uploaddeimagens.com.br/images/002/157/511/full/conectivos-logicos.jpg?1561550251)"
      ]
    },
    {
      "cell_type": "code",
      "metadata": {
        "id": "O4RpA6p5baPA",
        "colab_type": "code",
        "colab": {}
      },
      "source": [
        "x = \"janeiro\"\n",
        "if x == 'janeiro' or x == 'fevereiro' or x == 'março':\n",
        "\tprint('Trimestre 1')\n",
        "elif x == 'abril' or x == 'maio' or x == 'junho':\n",
        "\tprint('Trimestre 2')\n",
        "else:\n",
        "\tprint('Trimestre 3')"
      ],
      "execution_count": 0,
      "outputs": []
    },
    {
      "cell_type": "markdown",
      "metadata": {
        "id": "q1yVwPBZl3Jl",
        "colab_type": "text"
      },
      "source": [
        "## **>>> Exercícios**\n",
        "\n",
        "\n",
        "1.   Crie um algoritmo que solicite do usuário um número e calcule se ele é POSITIVO ou NEGATIVO (fácil)\n",
        "2.   Crie um algoritmo que solicite peso e altura e como resultado printe o IMC na tela (médio)\n",
        "3.   Crie um algoritmo que solicite do usuário um número e printe na tela PAR, quando número par e IMPAR, quando número ímpar(difícil)"
      ]
    },
    {
      "cell_type": "code",
      "metadata": {
        "id": "EJxALwODplNR",
        "colab_type": "code",
        "colab": {}
      },
      "source": [
        "# 1\n",
        "n = int(input(\"Informe um numero: \"))\n",
        "\n",
        "if n >=0:\n",
        "  print(\"POSITIVO\")\n",
        "else:\n",
        "  print(\"NEGATIVO\")"
      ],
      "execution_count": 0,
      "outputs": []
    },
    {
      "cell_type": "code",
      "metadata": {
        "id": "J_Jwkk8BroGT",
        "colab_type": "code",
        "colab": {}
      },
      "source": [
        "# 2\n",
        "\n",
        "peso = float(input(\"Informe seu peso: \"))\n",
        "altura = float(input(\"Informa sua altura: \"))\n",
        "\n",
        "IMC= peso/(altura**2)\n",
        "print(f\"Seu IMC é: \", IMC)"
      ],
      "execution_count": 0,
      "outputs": []
    },
    {
      "cell_type": "code",
      "metadata": {
        "id": "m99u6mfjsgFu",
        "colab_type": "code",
        "colab": {}
      },
      "source": [
        "# 3\n",
        "n = float(input(\"Informe seu numero: \"))\n",
        "\n",
        "if n % 2 == 0:\n",
        "  print(\"PAR\")\n",
        "\n",
        "else:\n",
        "    print(\"ÍMPAR\")"
      ],
      "execution_count": 0,
      "outputs": []
    }
  ]
}
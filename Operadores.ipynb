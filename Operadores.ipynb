{
  "nbformat": 4,
  "nbformat_minor": 0,
  "metadata": {
    "colab": {
      "name": "Operadores.ipynb",
      "provenance": [],
      "private_outputs": true,
      "collapsed_sections": [],
      "include_colab_link": true
    },
    "kernelspec": {
      "name": "python3",
      "display_name": "Python 3"
    },
    "accelerator": "GPU"
  },
  "cells": [
    {
      "cell_type": "markdown",
      "metadata": {
        "id": "view-in-github",
        "colab_type": "text"
      },
      "source": [
        "<a href=\"https://colab.research.google.com/github/nicolegold/MaratonaDataScience/blob/master/Operadores.ipynb\" target=\"_parent\"><img src=\"https://colab.research.google.com/assets/colab-badge.svg\" alt=\"Open In Colab\"/></a>"
      ]
    },
    {
      "cell_type": "markdown",
      "metadata": {
        "id": "1aMFiRCKgaXU",
        "colab_type": "text"
      },
      "source": [
        "# **Operadores Aritméticos**\n",
        "\n",
        "---\n",
        "\n",
        "![alt text](http://uploaddeimagens.com.br/images/002/157/495/full/novo.jpg?1561548911)"
      ]
    },
    {
      "cell_type": "code",
      "metadata": {
        "id": "F_FhFqcrF17b",
        "colab_type": "code",
        "colab": {}
      },
      "source": [
        "# SOMA NÚMEROS\n",
        "\n",
        "print(5+1)"
      ],
      "execution_count": 0,
      "outputs": []
    },
    {
      "cell_type": "code",
      "metadata": {
        "id": "cooSXrd-ZcJ5",
        "colab_type": "code",
        "colab": {}
      },
      "source": [
        "# SOMA STRINGS\n",
        "\n",
        "print(\"chat\"+\"bot\")"
      ],
      "execution_count": 0,
      "outputs": []
    },
    {
      "cell_type": "code",
      "metadata": {
        "id": "4CW8_SbQZcS9",
        "colab_type": "code",
        "colab": {}
      },
      "source": [
        "# SUBTRAÇÃO\n",
        "\n",
        "print(150-50)"
      ],
      "execution_count": 0,
      "outputs": []
    },
    {
      "cell_type": "code",
      "metadata": {
        "id": "XVgaRWtFZcam",
        "colab_type": "code",
        "colab": {}
      },
      "source": [
        "# MULTIPLICAÇÃO\n",
        "\n",
        "print(5*3)"
      ],
      "execution_count": 0,
      "outputs": []
    },
    {
      "cell_type": "code",
      "metadata": {
        "id": "2-ApCdN7ZciJ",
        "colab_type": "code",
        "colab": {}
      },
      "source": [
        "# DIVISÃO\n",
        "\n",
        "print(100/3)"
      ],
      "execution_count": 0,
      "outputs": []
    },
    {
      "cell_type": "code",
      "metadata": {
        "id": "r9TDnllYZcoR",
        "colab_type": "code",
        "colab": {}
      },
      "source": [
        "# EXPONENCIAÇÃO\n",
        "\n",
        "print(2**3)"
      ],
      "execution_count": 0,
      "outputs": []
    },
    {
      "cell_type": "code",
      "metadata": {
        "id": "7h8HOrPdZcvf",
        "colab_type": "code",
        "colab": {}
      },
      "source": [
        "# PARTE INTEIRA DA DIVISÃO\n",
        "\n",
        "print(100//3)"
      ],
      "execution_count": 0,
      "outputs": []
    },
    {
      "cell_type": "code",
      "metadata": {
        "id": "f3icQP7hZc3o",
        "colab_type": "code",
        "colab": {}
      },
      "source": [
        "# RESTO DA DIVISÃO\n",
        "\n",
        "print(100%3)"
      ],
      "execution_count": 0,
      "outputs": []
    },
    {
      "cell_type": "markdown",
      "metadata": {
        "id": "wn5kvuiEMjHr",
        "colab_type": "text"
      },
      "source": [
        "# **Regras de Precedência(PEMDAS)** \n",
        "<br>**P**: de parênteses! tem a mais alta precedência e por isto, em casos onde houverem parênteses, estes cálculos serão realizados primeiro.\n",
        "<br>2 * (3+1) = 8\n",
        "<br>2 * 3 + 1 = 7\n",
        "<br><br>**E**: de exponenciação! possui a segunda precedência mais alta.\n",
        "<br>2 ** 1+1 = 3\n",
        "<br><br>**MDAS**: Multiplicação e Divisão são a terceira precedência mais alta, restando a adição e subtração em ultima posição na ordem de precedência.\n",
        "<br>2 * 3-1 = 5"
      ]
    },
    {
      "cell_type": "markdown",
      "metadata": {
        "id": "pUGCKvG6jIjo",
        "colab_type": "text"
      },
      "source": [
        "# **Operadores Lógicos**\n",
        "\n",
        "---\n",
        "\n",
        "![alt text](http://uploaddeimagens.com.br/images/002/157/489/original/operadores-logicos.jpg?1561548629)"
      ]
    },
    {
      "cell_type": "code",
      "metadata": {
        "id": "eiKaiZN7fdV2",
        "colab_type": "code",
        "colab": {}
      },
      "source": [
        "# MAIOR >\n",
        "print(10 > 0)"
      ],
      "execution_count": 0,
      "outputs": []
    },
    {
      "cell_type": "code",
      "metadata": {
        "id": "tD0I9RAtav3U",
        "colab_type": "code",
        "colab": {}
      },
      "source": [
        "# MENOR <\n",
        "print(0 < 10)"
      ],
      "execution_count": 0,
      "outputs": []
    },
    {
      "cell_type": "code",
      "metadata": {
        "id": "LI4sioN2awBD",
        "colab_type": "code",
        "colab": {}
      },
      "source": [
        "# MAIOR OU IGUAL >=\n",
        "print(10 >= 10)"
      ],
      "execution_count": 0,
      "outputs": []
    },
    {
      "cell_type": "code",
      "metadata": {
        "id": "UPpqU_nmawKJ",
        "colab_type": "code",
        "colab": {}
      },
      "source": [
        "# MENOR OU IGUAL <=\n",
        "print(10 <= 20)"
      ],
      "execution_count": 0,
      "outputs": []
    },
    {
      "cell_type": "code",
      "metadata": {
        "id": "qbKzfb_2awT3",
        "colab_type": "code",
        "colab": {}
      },
      "source": [
        "# IGUAL ==\n",
        "print(10 == 10)"
      ],
      "execution_count": 0,
      "outputs": []
    },
    {
      "cell_type": "code",
      "metadata": {
        "id": "WIz9HtKkawc9",
        "colab_type": "code",
        "colab": {}
      },
      "source": [
        "# DIFERENTE !=\n",
        "print(10 != \"10\")"
      ],
      "execution_count": 0,
      "outputs": []
    },
    {
      "cell_type": "markdown",
      "metadata": {
        "id": "u_VX05mencE6",
        "colab_type": "text"
      },
      "source": [
        "# **Operador in**"
      ]
    },
    {
      "cell_type": "code",
      "metadata": {
        "id": "4m6kUWxnnHUn",
        "colab_type": "code",
        "colab": {}
      },
      "source": [
        "# Operador IN verifica se o elemento está contido na estrutura citada\n",
        "x = \"python\"\n",
        "print(\"p\" in x)"
      ],
      "execution_count": 0,
      "outputs": []
    },
    {
      "cell_type": "markdown",
      "metadata": {
        "id": "v-5cb-wikmAX",
        "colab_type": "text"
      },
      "source": [
        "## **>>> Exercícios**\n",
        "\n",
        "\n",
        "1.   Crie um algoritmo que solicite do usuário 2 números e apresente a soma de ambos (fácil)\n",
        "2.   Crie um algoritmo que solicite do usuário 2 números e apresente o intervalo númerico entre eles (médio)\n",
        "3.   Crie um algoritmo que solicite do usuário 2 números e apresente o mínimo múltiplo comum(MMC) entre eles (difícil)\n",
        "\n",
        "\n"
      ]
    },
    {
      "cell_type": "code",
      "metadata": {
        "id": "EkEjkAEtPQtp",
        "colab_type": "code",
        "colab": {}
      },
      "source": [
        "# 1\n",
        "n1 = input(\"Digite um numero: \")\n",
        "n2 = input(\"Digite outro numero: \")\n",
        "\n",
        "n1INT = int(n1)\n",
        "n2INT = int(n2)\n",
        "\n",
        "soma = (n1INT + n2INT)\n",
        "print(f\"Soma dos numeros: {soma}\")\n"
      ],
      "execution_count": 0,
      "outputs": []
    },
    {
      "cell_type": "code",
      "metadata": {
        "id": "nDvYKepukDW6",
        "colab_type": "code",
        "colab": {}
      },
      "source": [
        "# 2\n",
        "n1 = input(\"Digite um numero: \")\n",
        "n2 = input(\"Digite outro numero: \")\n",
        "\n",
        "n1INT = int(n1)\n",
        "n2INT = int(n2)\n",
        "\n",
        "media = (n1INT+n2INT)/2\n",
        "\n",
        "print(f\"A media entre os números é: \", media)"
      ],
      "execution_count": 0,
      "outputs": []
    },
    {
      "cell_type": "code",
      "metadata": {
        "id": "gp9eLNUdklHJ",
        "colab_type": "code",
        "colab": {}
      },
      "source": [
        "# 3\n",
        "n1 = int(input(\"Digite um número inteiro: \"))\n",
        "n2 = int(input(\"Digite outro número inteiro: \"))\n",
        "\n",
        "if n1 > n2:\n",
        "    maior = n1\n",
        "else:\n",
        "    maior = n2\n",
        "while True:\n",
        "    if maior % n1 == 0 and maior % n2 == 0:\n",
        "        print(maior)\n",
        "        break\n",
        "    else:\n",
        "        maior += 1"
      ],
      "execution_count": 0,
      "outputs": []
    }
  ]
}
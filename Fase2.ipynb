{
  "nbformat": 4,
  "nbformat_minor": 0,
  "metadata": {
    "colab": {
      "name": "Fase2.ipynb",
      "provenance": [],
      "include_colab_link": true
    },
    "kernelspec": {
      "name": "python3",
      "display_name": "Python 3"
    }
  },
  "cells": [
    {
      "cell_type": "markdown",
      "metadata": {
        "id": "view-in-github",
        "colab_type": "text"
      },
      "source": [
        "<a href=\"https://colab.research.google.com/github/nicolegold/MaratonaDataScience/blob/master/Fase2.ipynb\" target=\"_parent\"><img src=\"https://colab.research.google.com/assets/colab-badge.svg\" alt=\"Open In Colab\"/></a>"
      ]
    },
    {
      "cell_type": "markdown",
      "metadata": {
        "id": "CYNAmoj4zSXl",
        "colab_type": "text"
      },
      "source": [
        "Crie um algoritmo em Python que peça 2 números e imprima o maior deles."
      ]
    },
    {
      "cell_type": "code",
      "metadata": {
        "id": "ViAfpy3GzPN-",
        "colab_type": "code",
        "outputId": "8178edb8-0455-43fd-84b6-8c4399ea7b5e",
        "colab": {
          "base_uri": "https://localhost:8080/",
          "height": 68
        }
      },
      "source": [
        "n1 = int(input(\"Informe o 1o número: \"))\n",
        "n2 = int(input(\"Informe o 2o número: \"))\n",
        "\n",
        "if n1>n2:\n",
        "  print(f\"{n1} é maior que {n2}\")\n",
        "else:\n",
        "  print(f\"{n2} é maior que {n1}\")"
      ],
      "execution_count": 48,
      "outputs": [
        {
          "output_type": "stream",
          "text": [
            "Informe o 1o número: 1\n",
            "Informe o 2o número: 2\n",
            "2 é maior que 1\n"
          ],
          "name": "stdout"
        }
      ]
    },
    {
      "cell_type": "markdown",
      "metadata": {
        "id": "gdMis92izSmQ",
        "colab_type": "text"
      },
      "source": [
        "Crie um algoritmo em Python que peça um valor e mostre na tela se o valor é positivo ou negativo."
      ]
    },
    {
      "cell_type": "code",
      "metadata": {
        "id": "BFpWkdCBz_zh",
        "colab_type": "code",
        "outputId": "75df8c50-c1b7-4f81-f1d9-5f91e7f5675d",
        "colab": {
          "base_uri": "https://localhost:8080/",
          "height": 51
        }
      },
      "source": [
        "n = int(input(\"Informe um número: \"))\n",
        "\n",
        "if n>=0:\n",
        "  print(f\"{n} é POSITIVO\")\n",
        "else:\n",
        "  print(f\"{n} é NEGATIVO\")"
      ],
      "execution_count": 49,
      "outputs": [
        {
          "output_type": "stream",
          "text": [
            "Informe um número: 3\n",
            "3 é POSITIVO\n"
          ],
          "name": "stdout"
        }
      ]
    },
    {
      "cell_type": "markdown",
      "metadata": {
        "id": "E_0l_Vx6zSo2",
        "colab_type": "text"
      },
      "source": [
        "Crie um algoritmo em Python que verifique se uma letra digitada é vogal ou consoante."
      ]
    },
    {
      "cell_type": "code",
      "metadata": {
        "id": "KwJf7XZS0AZW",
        "colab_type": "code",
        "outputId": "d1e5eb6e-1fc4-4e7c-da83-591ce615b23c",
        "colab": {
          "base_uri": "https://localhost:8080/",
          "height": 51
        }
      },
      "source": [
        "letra=input('Digite uma letra: ')\n",
        "\n",
        "if letra=='a' or letra=='e' or letra=='i' or letra=='o' or letra=='u' or \\\n",
        "       letra=='A' or letra=='E' or letra=='I' or letra=='O' or letra=='U':\n",
        "           print('Vogal')\n",
        "else:\n",
        "           print('Consoante')"
      ],
      "execution_count": 50,
      "outputs": [
        {
          "output_type": "stream",
          "text": [
            "Digite uma letra: a\n",
            "Vogal\n"
          ],
          "name": "stdout"
        }
      ]
    },
    {
      "cell_type": "markdown",
      "metadata": {
        "id": "1i4VCiiczSrL",
        "colab_type": "text"
      },
      "source": [
        "Faça um programa para a leitura de duas notas parciais de um aluno. O programa deve calcular a média alcançada por aluno e apresentar:\n",
        "* \"Aprovado\", se a média alcançada for maior ou igual a sete;\n",
        "* \"Reprovado\", se a média for menor do que sete;\n",
        "* \"Aprovado com Distinção\", se a média for igual a 10."
      ]
    },
    {
      "cell_type": "code",
      "metadata": {
        "id": "yoW67hjA0BHy",
        "colab_type": "code",
        "outputId": "73f0aebe-a90f-43c5-aa0d-ed32cef0941b",
        "colab": {
          "base_uri": "https://localhost:8080/",
          "height": 85
        }
      },
      "source": [
        "n1 = float(input(\"Informe a nota 1: \"))\n",
        "n2 = float(input(\"Informe a nota 2: \"))\n",
        "media=(n1+n2)/2\n",
        "print(f\"A média das notas é: \", media)\n",
        "\n",
        "if media>=7 and media!=10:\n",
        "  print('APROVADO')\n",
        "if media<7:\n",
        "  print('REPROVADO')\n",
        "if media==10:\n",
        "  print('APROVADO COM DISTINÇÃO')"
      ],
      "execution_count": 51,
      "outputs": [
        {
          "output_type": "stream",
          "text": [
            "Informe a nota 1: 3\n",
            "Informe a nota 2: 2\n",
            "A média das notas é:  2.5\n",
            "REPROVADO\n"
          ],
          "name": "stdout"
        }
      ]
    },
    {
      "cell_type": "markdown",
      "metadata": {
        "id": "4ep7kezvzStO",
        "colab_type": "text"
      },
      "source": [
        "Crie um algoritmo em Python que leia três números e mostre o maior deles."
      ]
    },
    {
      "cell_type": "code",
      "metadata": {
        "id": "6K6IHWdr0Blt",
        "colab_type": "code",
        "outputId": "014d50c0-8e08-49e0-ceeb-af83e62de063",
        "colab": {
          "base_uri": "https://localhost:8080/",
          "height": 85
        }
      },
      "source": [
        "n1 = float(input(\"Informe o 1o numero: \"))\n",
        "n2 = float(input(\"Informe o 2o numero: \"))\n",
        "n3 = float(input(\"Informe o 2o numero: \"))\n",
        "\n",
        "if n1>n2 and n1>n3:\n",
        "  print(f\"{n1} é o maior\")\n",
        "if n2>n1 and n2>n3:\n",
        "  print(f\"{n2} é o maior\")\n",
        "if n3>n1 and n3>n2:\n",
        "  print(f\"{n3} é o maior\")"
      ],
      "execution_count": 52,
      "outputs": [
        {
          "output_type": "stream",
          "text": [
            "Informe o 1o numero: 2\n",
            "Informe o 2o numero: 3\n",
            "Informe o 2o numero: 4\n",
            "4.0 é o maior\n"
          ],
          "name": "stdout"
        }
      ]
    },
    {
      "cell_type": "markdown",
      "metadata": {
        "id": "u6__NaXqzeYg",
        "colab_type": "text"
      },
      "source": [
        "Crie um algoritmo em Python que leia três números e mostre o maior e o menor deles."
      ]
    },
    {
      "cell_type": "code",
      "metadata": {
        "id": "mm2L7g3x0Cfx",
        "colab_type": "code",
        "colab": {
          "base_uri": "https://localhost:8080/",
          "height": 102
        },
        "outputId": "f00571d1-efbb-4b6e-edd4-e05c66c597df"
      },
      "source": [
        "n1 = float(input(\"Informe o 1o numero: \"))\n",
        "n2 = float(input(\"Informe o 2o numero: \"))\n",
        "n3 = float(input(\"Informe o 3o numero: \"))\n",
        "\n",
        "if n1>n2 and n1>n3:\n",
        "  print(f\"{n1} é o maior\")\n",
        "if n2>n1 and n2>n3:\n",
        "  print(f\"{n2} é o maior\")\n",
        "if n3>n1 and n3>n2:\n",
        "  print(f\"{n3} é o maior\")\n",
        "\n",
        "if n1<n2 and n1<n3:\n",
        "  print(f\"e {n1} é o menor\")\n",
        "if n2<n1 and n2<n3:\n",
        "  print(f\"e {n2} é o menor\")\n",
        "if n3<n1 and n3<n2:\n",
        "  print(f\"e {n3} é o menor\")"
      ],
      "execution_count": 53,
      "outputs": [
        {
          "output_type": "stream",
          "text": [
            "Informe o 1o numero: 4\n",
            "Informe o 2o numero: 2\n",
            "Informe o 3o numero: 5\n",
            "5.0 é o maior\n",
            "e 2.0 é o menor\n"
          ],
          "name": "stdout"
        }
      ]
    },
    {
      "cell_type": "markdown",
      "metadata": {
        "id": "lIlfG-ATzgOr",
        "colab_type": "text"
      },
      "source": [
        "Faça um programa que pergunte o preço de 5 produtos e informe qual produto você deve comprar, sabendo que a decisão é sempre pelo mais barato."
      ]
    },
    {
      "cell_type": "code",
      "metadata": {
        "id": "-y4pB6br0DD_",
        "colab_type": "code",
        "outputId": "e2c3e6d0-502b-4e80-d9af-7acfd99b6bde",
        "colab": {
          "base_uri": "https://localhost:8080/",
          "height": 119
        }
      },
      "source": [
        "n1 = float(input(\"Informe o preço do 1o produto: \"))\n",
        "n2 = float(input(\"Informe o preço do 2o produto: \"))\n",
        "n3 = float(input(\"Informe o preço do 3o produto: \"))\n",
        "n4 = float(input(\"Informe o preço do 4o produto: \"))\n",
        "n5 = float(input(\"Informe o preço do 5o produto: \"))\n",
        "\n",
        "if n1<n2 and n1<n3 and n1<n4 and n1<n5:\n",
        "  print('Compre o 1o produto')\n",
        "if n2<n1 and n2<n3 and n1<n4 and n1<n5:\n",
        "  print('Compre o 2o produto')\n",
        "if n3<n1 and n3<n2 and n1<n4 and n1<n5:\n",
        "  print('Compre o 3o produto')\n",
        "if n4<n1 and n4<n2 and n4<n3 and n4<n5:\n",
        "  print('Compre o 4o produto')\n",
        "if n5<n1 and n5<n2 and n5<n3 and n1<n4:\n",
        "  print('Compre o 5o produto')"
      ],
      "execution_count": 54,
      "outputs": [
        {
          "output_type": "stream",
          "text": [
            "Informe o preço do 1o produto: 2\n",
            "Informe o preço do 2o produto: 3\n",
            "Informe o preço do 3o produto: 4\n",
            "Informe o preço do 4o produto: 5\n",
            "Informe o preço do 5o produto: 6\n",
            "Compre o 1o produto\n"
          ],
          "name": "stdout"
        }
      ]
    },
    {
      "cell_type": "markdown",
      "metadata": {
        "id": "Vj4OXsJQziu_",
        "colab_type": "text"
      },
      "source": [
        "Crie um algoritmo em Python que leia três números e mostre-os em ordem decrescente."
      ]
    },
    {
      "cell_type": "code",
      "metadata": {
        "id": "RmApGpg30D00",
        "colab_type": "code",
        "outputId": "38df8fa8-1132-4a21-8494-ec84e2afdd05",
        "colab": {
          "base_uri": "https://localhost:8080/",
          "height": 85
        }
      },
      "source": [
        "n1=float(input(\"Digite o 1o número: \"))\n",
        "n2=float(input(\"Digite o 2o número: \"))\n",
        "n3=float(input(\"Digite o 3o número: \"))\n",
        "\n",
        "if n1 > n2 > n3:\n",
        "  print(\"Do maior para o menor:\", n1,\"-\", n2,\"-\", n3)\n",
        "elif n2 > n1 > n3:\n",
        "  print(\"Do maior para o menor:\", n2,\"-\", n1,\"-\", n3)\n",
        "elif n2 > n3 > n1:\n",
        "  print(\"Do maior para o menor:\", n2,\"-\", n3,\"-\", n1)\n",
        "elif n3 > n2 > n1:\n",
        "  print(\"Do maior para o menor:\", n3,\"-\", n2,\"-\", n1)\n",
        "elif (n1 == n2 == n3) or (n2 == n1 == n3) or (n3 == n2 == n1):\n",
        "  print(\"Números iguais!\")"
      ],
      "execution_count": 55,
      "outputs": [
        {
          "output_type": "stream",
          "text": [
            "Digite o 1o número: 2\n",
            "Digite o 2o número: 32\n",
            "Digite o 3o número: 5\n",
            "Do maior para o menor: 32.0 - 5.0 - 2.0\n"
          ],
          "name": "stdout"
        }
      ]
    },
    {
      "cell_type": "markdown",
      "metadata": {
        "id": "e7id8Ewgzlow",
        "colab_type": "text"
      },
      "source": [
        "As Organizações Mendéz resolveram dar um aumento de salário aos seus colaboradores e lhe contraram para desenvolver o programa que calculará os reajustes em Python. Faça um programa que receba o salário de um colaborador e o reajuste segundo o seguinte critério, baseado no salário atual:\n",
        "\n",
        "* salários entre 680,00 e 800,00 : aumento de 15%<br>\n",
        "* salários entre 800,00 e 2500,00 : aumento de 10%<br>\n",
        "* salários de 2500,00 em diante : aumento de 5% após o aumento ser realizado.\n",
        "\n",
        "Informe na tela:\n",
        "* o salário antes do reajuste;\n",
        "* o percentual de aumento aplicado;\n",
        "* o valor do aumento;\n",
        "* o novo salário, após o aumento."
      ]
    },
    {
      "cell_type": "code",
      "metadata": {
        "id": "Kl0ainsv0Eif",
        "colab_type": "code",
        "outputId": "d4e815e3-8d6f-49c9-c687-0291f7277213",
        "colab": {
          "base_uri": "https://localhost:8080/",
          "height": 71
        }
      },
      "source": [
        "salario = float(input(\"Informe o seu salário: \"))\n",
        "if salario>680 and salario<800:\n",
        "  percentual = 15/100\n",
        "  aumento = percentual * salario\n",
        "  reajuste = aumento + salario\n",
        "  print(f\"O salário antes do reajuste é de R${salario}. O percentual de aumento aplicado é de 15%. O valor do aumento foi de R${aumento}. Sendo assim, o novo salário é de R${reajuste}\")\n",
        "if salario>800 and salario<2500:\n",
        "  percentual = 10/100\n",
        "  aumento = percentual * salario\n",
        "  reajuste = aumento + salario\n",
        "  print(f\"O salário antes do reajuste é de R${salario}. O percentual de aumento aplicado é de 10%. O valor do aumento foi de R${aumento}. Sendo assim, o novo salário é de R${reajuste}\") \n",
        "if salario>2500:\n",
        "  percentual = 5/100\n",
        "  aumento = percentual * salario\n",
        "  reajuste = aumento + salario\n",
        "  print(f\"O salário antes do reajuste é de R${salario}. O percentual de aumento aplicado é de 5%. O valor do aumento foi de R${aumento}. Sendo assim, o novo salário é de R${reajuste}\") "
      ],
      "execution_count": 57,
      "outputs": [
        {
          "output_type": "stream",
          "text": [
            "Informe o seu salário: 9000\n",
            "O salário antes do reajuste é de R$9000.0. O percentual de aumento aplicado é de 5%. O valor do aumento foi de R$450.0. Sendo assim, o novo salário é de R$9450.0\n"
          ],
          "name": "stdout"
        }
      ]
    }
  ]
}
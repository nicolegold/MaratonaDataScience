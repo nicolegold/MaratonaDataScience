{
  "nbformat": 4,
  "nbformat_minor": 0,
  "metadata": {
    "colab": {
      "name": "POO.ipynb",
      "provenance": [],
      "collapsed_sections": [
        "fWdSdPQuPJYP",
        "GLekKo3oPc2h",
        "djld-aLZSQp5"
      ],
      "include_colab_link": true
    },
    "kernelspec": {
      "name": "python3",
      "display_name": "Python 3"
    }
  },
  "cells": [
    {
      "cell_type": "markdown",
      "metadata": {
        "id": "view-in-github",
        "colab_type": "text"
      },
      "source": [
        "<a href=\"https://colab.research.google.com/github/nicolegold/MaratonaDataScience/blob/master/POO.ipynb\" target=\"_parent\"><img src=\"https://colab.research.google.com/assets/colab-badge.svg\" alt=\"Open In Colab\"/></a>"
      ]
    },
    {
      "cell_type": "markdown",
      "metadata": {
        "id": "P9qc_4U1sihN",
        "colab_type": "text"
      },
      "source": [
        "# **>>> Programação Orientada a Objetos(POO)**\n",
        "Maiores informações [AQUI](https://pt.wikipedia.org/wiki/Programa%C3%A7%C3%A3o_orientada_a_objetos)\n",
        "\n",
        "---\n",
        "\n",
        "Dados >>> Atributos/Comportamento >>> Métodos"
      ]
    },
    {
      "cell_type": "markdown",
      "metadata": {
        "id": "fWdSdPQuPJYP",
        "colab_type": "text"
      },
      "source": [
        "## **>>> Classes**\n",
        "\n",
        "---\n",
        "\n"
      ]
    },
    {
      "cell_type": "code",
      "metadata": {
        "id": "fzFA1i2FsSnK",
        "colab_type": "code",
        "colab": {}
      },
      "source": [
        "# Classes\n",
        "class Carro:\n",
        "  pass"
      ],
      "execution_count": 0,
      "outputs": []
    },
    {
      "cell_type": "code",
      "metadata": {
        "id": "UCBaGaZHQaJ4",
        "colab_type": "code",
        "outputId": "66983b3b-cbc4-4e7f-870f-f9834eaf0b3b",
        "colab": {
          "base_uri": "https://localhost:8080/",
          "height": 34
        }
      },
      "source": [
        "# Criando uma classe\n",
        "class Pessoa:\n",
        "  def __init__(self,nome,idade):\n",
        "    self.nome = nome\n",
        "    self.idade = idade\n",
        "\n",
        "b1 = Pessoa(\"Weber\", 27)\n",
        "print(b1.nome)"
      ],
      "execution_count": 2,
      "outputs": [
        {
          "output_type": "stream",
          "text": [
            "Weber\n"
          ],
          "name": "stdout"
        }
      ]
    },
    {
      "cell_type": "code",
      "metadata": {
        "id": "WFkGFxTORRVl",
        "colab_type": "code",
        "outputId": "5ed5ea46-aa04-42d3-b1b2-402fd3c78f77",
        "colab": {
          "base_uri": "https://localhost:8080/",
          "height": 34
        }
      },
      "source": [
        "# Atributo Getter\n",
        "getattr(b1, \"nome\")"
      ],
      "execution_count": 3,
      "outputs": [
        {
          "output_type": "execute_result",
          "data": {
            "text/plain": [
              "'Weber'"
            ]
          },
          "metadata": {
            "tags": []
          },
          "execution_count": 3
        }
      ]
    },
    {
      "cell_type": "code",
      "metadata": {
        "id": "FN_IrzeJRse-",
        "colab_type": "code",
        "outputId": "6a512b60-1466-47ba-941e-3f315daa6e29",
        "colab": {
          "base_uri": "https://localhost:8080/",
          "height": 34
        }
      },
      "source": [
        "# Atributo Setter\n",
        "setattr(b1, \"nome\", \"Web\")\n",
        "print(b1.nome)"
      ],
      "execution_count": 4,
      "outputs": [
        {
          "output_type": "stream",
          "text": [
            "Web\n"
          ],
          "name": "stdout"
        }
      ]
    },
    {
      "cell_type": "markdown",
      "metadata": {
        "id": "GLekKo3oPc2h",
        "colab_type": "text"
      },
      "source": [
        "## **>>> Objetos**\n",
        "\n",
        "---\n",
        "\n"
      ]
    },
    {
      "cell_type": "code",
      "metadata": {
        "id": "BjIsd8bPJyw6",
        "colab_type": "code",
        "outputId": "c9f6b677-bca5-4e5f-e006-47289dbd5c94",
        "colab": {
          "base_uri": "https://localhost:8080/",
          "height": 34
        }
      },
      "source": [
        "# Objetos são instâncias de uma classe\n",
        "fusca = Carro()\n",
        "print(fusca)"
      ],
      "execution_count": 5,
      "outputs": [
        {
          "output_type": "stream",
          "text": [
            "<__main__.Carro object at 0x7fc28f2a2668>\n"
          ],
          "name": "stdout"
        }
      ]
    },
    {
      "cell_type": "code",
      "metadata": {
        "id": "Aht9yvLlPo1V",
        "colab_type": "code",
        "colab": {
          "base_uri": "https://localhost:8080/",
          "height": 54
        },
        "outputId": "9bdd0460-079b-497e-93e6-8f3e50a5b080"
      },
      "source": [
        "'''\n",
        "Todos tipos de dados em Python são objetos. \n",
        "Lista, inteiros, floating, booleanos e strings são classes.\n",
        "Ao utilizarmos o dir() recebemos a lista de seus métodos e funções.\n",
        "'''"
      ],
      "execution_count": 6,
      "outputs": [
        {
          "output_type": "execute_result",
          "data": {
            "text/plain": [
              "'\\nTodos tipos de dados em Python são objetos. \\nLista, inteiros, floating, booleanos e strings são classes.\\nAo utilizarmos o dir() recebemos a lista de seus métodos e funções.\\n'"
            ]
          },
          "metadata": {
            "tags": []
          },
          "execution_count": 6
        }
      ]
    },
    {
      "cell_type": "code",
      "metadata": {
        "id": "vb1Rb3B4QFmu",
        "colab_type": "code",
        "outputId": "7ecfc33b-f2d3-4d0d-cf47-838061af5dd3",
        "colab": {
          "base_uri": "https://localhost:8080/",
          "height": 34
        }
      },
      "source": [
        "# A variável abaixo é uma instância da classe \"list\"\n",
        "lista = [1,2,3,4,5]\n",
        "print(type(lista))"
      ],
      "execution_count": 7,
      "outputs": [
        {
          "output_type": "stream",
          "text": [
            "<class 'list'>\n"
          ],
          "name": "stdout"
        }
      ]
    },
    {
      "cell_type": "code",
      "metadata": {
        "id": "cQ0YiDmYKER_",
        "colab_type": "code",
        "colab": {}
      },
      "source": [
        "# Atributos e o método __init__(construtor)\n",
        "class Carro:\n",
        "  def __init__(self,rodas,tanque,bancos,velocidade):\n",
        "    self.rodas = rodas\n",
        "    self.tanque = tanque\n",
        "    self.bancos = bancos\n",
        "    self.velocidade = velocidade"
      ],
      "execution_count": 0,
      "outputs": []
    },
    {
      "cell_type": "code",
      "metadata": {
        "id": "AmUJDuhGKjT3",
        "colab_type": "code",
        "colab": {}
      },
      "source": [
        "# Criando um objeto com atributos\n",
        "tesla = Carro(4,\"200 litros\",5,\"250km/h\")"
      ],
      "execution_count": 0,
      "outputs": []
    },
    {
      "cell_type": "code",
      "metadata": {
        "id": "PlDBxW4DLvQo",
        "colab_type": "code",
        "outputId": "03ffc716-9491-46b0-f051-6f6284ac280f",
        "colab": {
          "base_uri": "https://localhost:8080/",
          "height": 34
        }
      },
      "source": [
        "# Acessando os valores\n",
        "print(f\"Nosso veículo possui {tesla.rodas} rodas, tanque com capacidade de até {tesla.tanque}, {tesla.bancos} assentos e acelera até {tesla.velocidade}\")"
      ],
      "execution_count": 10,
      "outputs": [
        {
          "output_type": "stream",
          "text": [
            "Nosso veículo possui 4 rodas, tanque com capacidade de até 200 litros, 5 assentos e acelera até 250km/h\n"
          ],
          "name": "stdout"
        }
      ]
    },
    {
      "cell_type": "code",
      "metadata": {
        "id": "lX8yRgohMdzz",
        "colab_type": "code",
        "outputId": "d87f21b1-6488-4eca-f399-341e8222490a",
        "colab": {
          "base_uri": "https://localhost:8080/",
          "height": 34
        }
      },
      "source": [
        "# Alterando valores\n",
        "tesla.rodas = 2\n",
        "print(tesla.rodas)"
      ],
      "execution_count": 11,
      "outputs": [
        {
          "output_type": "stream",
          "text": [
            "2\n"
          ],
          "name": "stdout"
        }
      ]
    },
    {
      "cell_type": "markdown",
      "metadata": {
        "id": "djld-aLZSQp5",
        "colab_type": "text"
      },
      "source": [
        "## **>>> Métodos**\n",
        "\n",
        "---\n",
        "\n"
      ]
    },
    {
      "cell_type": "code",
      "metadata": {
        "id": "RvVZBk75STyB",
        "colab_type": "code",
        "colab": {}
      },
      "source": [
        "# Criando método com valor default\n",
        "class Turista():\n",
        "  def __init__(self, nome, nacionalidade = 'brasileira'):\n",
        "    self.nome = nome\n",
        "    self.nacionalidade = nacionalidade"
      ],
      "execution_count": 0,
      "outputs": []
    },
    {
      "cell_type": "code",
      "metadata": {
        "id": "QmXbPUZrS4-8",
        "colab_type": "code",
        "colab": {}
      },
      "source": [
        "# Criando diversos métodos para uma mesma classe\n",
        "class Turista():\n",
        "  def __init__(self, nome, nacionalidade = \"brasileira\"):\n",
        "    self.nome = nome\n",
        "    self.nacionalidade = nacionalidade\n",
        "  def ConfigNacionalidade(self, nova_nacionalidade):\n",
        "    self.nacionalidade = nova_nacionalidade\n",
        "  def ConfigNome(self, novo_nome):\n",
        "    self.nome = novo_nome"
      ],
      "execution_count": 0,
      "outputs": []
    },
    {
      "cell_type": "code",
      "metadata": {
        "id": "R7b7n3YNTTBQ",
        "colab_type": "code",
        "outputId": "43c441bc-1e23-4695-fd71-5ef1fedebaa5",
        "colab": {
          "base_uri": "https://localhost:8080/",
          "height": 34
        }
      },
      "source": [
        "t1 = Turista(\"Anita\")\n",
        "print(t1.nome, t1.nacionalidade)"
      ],
      "execution_count": 14,
      "outputs": [
        {
          "output_type": "stream",
          "text": [
            "Anita brasileira\n"
          ],
          "name": "stdout"
        }
      ]
    },
    {
      "cell_type": "code",
      "metadata": {
        "id": "1pljzYHdTmgy",
        "colab_type": "code",
        "outputId": "816e4f7b-8475-4743-c32a-ce0f2746545f",
        "colab": {
          "base_uri": "https://localhost:8080/",
          "height": 34
        }
      },
      "source": [
        "t1.ConfigNacionalidade(\"Espanhola\")\n",
        "print(t1.nome, t1.nacionalidade)"
      ],
      "execution_count": 15,
      "outputs": [
        {
          "output_type": "stream",
          "text": [
            "Anita Espanhola\n"
          ],
          "name": "stdout"
        }
      ]
    },
    {
      "cell_type": "markdown",
      "metadata": {
        "id": "ni8oRAgJOBgf",
        "colab_type": "text"
      },
      "source": [
        "## **>>> Herança**\n",
        "---\n",
        "\n",
        "Ao criar uma nova classe você pode querer \"herdar\" os atributos de outra classe."
      ]
    },
    {
      "cell_type": "code",
      "metadata": {
        "id": "PnqISTr1OLRY",
        "colab_type": "code",
        "outputId": "cf77f1f8-5234-4ab2-fe3f-1749ef84c818",
        "colab": {
          "base_uri": "https://localhost:8080/",
          "height": 34
        }
      },
      "source": [
        "# Classe Carro\n",
        "class Carro:\n",
        "  def __init__(self,rodas,tanque,bancos,velocidade):\n",
        "    self.rodas = rodas\n",
        "    self.tanque = tanque\n",
        "    self.bancos = bancos\n",
        "    self.velocidade = velocidade\n",
        "\n",
        "# Classe Carro Elétrico\n",
        "class CarroEletrico:\n",
        "  def __init__(self,rodas,tanque,bancos,velocidade):\n",
        "    Carro.__init__(self,rodas,tanque,bancos,velocidade)\n",
        "\n",
        "carrinho = CarroEletrico(4,\"100 litros\",5,\"180 km/h\")\n",
        "print(carrinho.rodas)"
      ],
      "execution_count": 16,
      "outputs": [
        {
          "output_type": "stream",
          "text": [
            "4\n"
          ],
          "name": "stdout"
        }
      ]
    },
    {
      "cell_type": "markdown",
      "metadata": {
        "id": "9NvFBdSNVzN6",
        "colab_type": "text"
      },
      "source": [
        "# **>>> Diferença entre Métodos e Funções**\n",
        "\n",
        "---\n",
        "\n",
        "Função: bloco para realizar tarefa específica, podendo retornar, ou não, valores.\n",
        "\n",
        "Método: Tem de estar sempre associado a objetos/classes."
      ]
    },
    {
      "cell_type": "code",
      "metadata": {
        "id": "RX6C7zGvWZJe",
        "colab_type": "code",
        "outputId": "9ea0f01a-957c-4186-a686-f36c4e2e4215",
        "colab": {
          "base_uri": "https://localhost:8080/",
          "height": 34
        }
      },
      "source": [
        "# Função\n",
        "def soma(n1,n2):\n",
        "  return(n1+n2)\n",
        "soma(1,1)"
      ],
      "execution_count": 17,
      "outputs": [
        {
          "output_type": "execute_result",
          "data": {
            "text/plain": [
              "2"
            ]
          },
          "metadata": {
            "tags": []
          },
          "execution_count": 17
        }
      ]
    },
    {
      "cell_type": "code",
      "metadata": {
        "id": "Pb7DKjHtWhYj",
        "colab_type": "code",
        "outputId": "d0804ada-a706-4459-de99-d70005138325",
        "colab": {
          "base_uri": "https://localhost:8080/",
          "height": 34
        }
      },
      "source": [
        "# Método\n",
        "class Metodo(object):\n",
        "   def metod(self):\n",
        "      print(\"Eu sou um método\")\n",
        "m1 = Metodo()\n",
        "m1.metod()"
      ],
      "execution_count": 18,
      "outputs": [
        {
          "output_type": "stream",
          "text": [
            "Eu sou um método\n"
          ],
          "name": "stdout"
        }
      ]
    }
  ]
}
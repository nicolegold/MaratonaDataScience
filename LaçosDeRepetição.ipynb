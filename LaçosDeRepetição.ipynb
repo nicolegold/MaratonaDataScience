{
  "nbformat": 4,
  "nbformat_minor": 0,
  "metadata": {
    "colab": {
      "name": "LaçosDeRepetição.ipynb",
      "provenance": [],
      "private_outputs": true,
      "collapsed_sections": [
        "FLFjxhlJPNFq"
      ],
      "include_colab_link": true
    },
    "kernelspec": {
      "name": "python3",
      "display_name": "Python 3"
    },
    "accelerator": "GPU"
  },
  "cells": [
    {
      "cell_type": "markdown",
      "metadata": {
        "id": "view-in-github",
        "colab_type": "text"
      },
      "source": [
        "<a href=\"https://colab.research.google.com/github/nicolegold/MaratonaDataScience/blob/master/La%C3%A7osDeRepeti%C3%A7%C3%A3o.ipynb\" target=\"_parent\"><img src=\"https://colab.research.google.com/assets/colab-badge.svg\" alt=\"Open In Colab\"/></a>"
      ]
    },
    {
      "cell_type": "markdown",
      "metadata": {
        "id": "7PdWV0i6CtWM",
        "colab_type": "text"
      },
      "source": [
        "# **>>> WHILE**\n",
        "\n",
        "---\n",
        "\n"
      ]
    },
    {
      "cell_type": "code",
      "metadata": {
        "id": "cTBTYY_8CXhe",
        "colab_type": "code",
        "colab": {}
      },
      "source": [
        "# while\n",
        "# ENQUANTO A DECLARAÇÃO FOR True, O BLOCO SERÁ EXECUTADO \n",
        "\n",
        "n = 0\n",
        "while n <= 10:\n",
        "  print(n)\n",
        "  n = n+1  # n += 1"
      ],
      "execution_count": 0,
      "outputs": []
    },
    {
      "cell_type": "code",
      "metadata": {
        "id": "OI3qE_yZEnGX",
        "colab_type": "code",
        "colab": {}
      },
      "source": [
        "# +=, -=, *=, /= ...\n",
        "n = 0\n",
        "while n <= 10:\n",
        "  print(n)\n",
        "  n += 1 "
      ],
      "execution_count": 0,
      "outputs": []
    },
    {
      "cell_type": "code",
      "metadata": {
        "id": "aMGNM38tFTHO",
        "colab_type": "code",
        "colab": {}
      },
      "source": [
        "# while True realiza o código por tempo indeterminado: cuidado!\n",
        "while True:\n",
        "  print(0)"
      ],
      "execution_count": 0,
      "outputs": []
    },
    {
      "cell_type": "markdown",
      "metadata": {
        "id": "7OSp0N6TGDec",
        "colab_type": "text"
      },
      "source": [
        "## **O break**\n",
        "\n",
        "---\n",
        "\n"
      ]
    },
    {
      "cell_type": "code",
      "metadata": {
        "id": "FrVu2LtyFmdA",
        "colab_type": "code",
        "colab": {}
      },
      "source": [
        "# Com a instrução break podemos parar o loop mesmo se a condição while for verdadeira\n",
        "n = 0\n",
        "while n <= 10:\n",
        "  print(n)\n",
        "  if n == 3:\n",
        "    break\n",
        "  n = n+1 "
      ],
      "execution_count": 0,
      "outputs": []
    },
    {
      "cell_type": "markdown",
      "metadata": {
        "id": "yPkF9gibHqEM",
        "colab_type": "text"
      },
      "source": [
        "## **O continue**\n",
        "\n",
        "---\n",
        "\n"
      ]
    },
    {
      "cell_type": "code",
      "metadata": {
        "id": "qDXAMqfNHsYg",
        "colab_type": "code",
        "colab": {}
      },
      "source": [
        "# Com a instrução continue podemos continuar a próxima iteração de forma ilimitada: cuidado!\n",
        "n = 0\n",
        "while n <= 10:\n",
        "  print(n)\n",
        "  if n == 3:\n",
        "    continue\n",
        "  n = n+1 "
      ],
      "execution_count": 0,
      "outputs": []
    },
    {
      "cell_type": "markdown",
      "metadata": {
        "id": "Jn_meIMDIeoS",
        "colab_type": "text"
      },
      "source": [
        "# **>>> FOR**\n",
        "\n",
        "---\n",
        "\n"
      ]
    },
    {
      "cell_type": "code",
      "metadata": {
        "id": "AxB6CIZ1IxDT",
        "colab_type": "code",
        "colab": {}
      },
      "source": [
        "# ITERAÇÃO ATRAVÉS DE SEQUÊNCIAS (lista, tupla, dicionario, set, string)\n",
        "\n",
        "pessoas = ['Ana', 'Maria', 'Alita']\n",
        "for pessoa in pessoas:\n",
        "  print(pessoa)"
      ],
      "execution_count": 0,
      "outputs": []
    },
    {
      "cell_type": "code",
      "metadata": {
        "id": "7pnH_cH_JU9h",
        "colab_type": "code",
        "colab": {}
      },
      "source": [
        "# ITERAÇÃO EM STRINGS\n",
        "\n",
        "x = \"Alita\"\n",
        "for letra in x:\n",
        "  print(letra)"
      ],
      "execution_count": 0,
      "outputs": []
    },
    {
      "cell_type": "code",
      "metadata": {
        "id": "r664bMbRJdx1",
        "colab_type": "code",
        "colab": {}
      },
      "source": [
        "# ITERAÇÃO RANGE\n",
        "for x in range(10):\n",
        "  print(x)"
      ],
      "execution_count": 0,
      "outputs": []
    },
    {
      "cell_type": "code",
      "metadata": {
        "id": "I0_PeAorJxNH",
        "colab_type": "code",
        "colab": {}
      },
      "source": [
        "# TAMBÉM PODE RECEBER \"INICIO,FIM,PASSO\"\n",
        "for x in range(0,100,2):\n",
        "  print(x)"
      ],
      "execution_count": 0,
      "outputs": []
    },
    {
      "cell_type": "code",
      "metadata": {
        "id": "l67hQh3yKNCa",
        "colab_type": "code",
        "colab": {}
      },
      "source": [
        "# PODERÁ RECEBER ELSE\n",
        "for x in range(10):\n",
        "  print(x)\n",
        "else:\n",
        "  print(\"fim!\")"
      ],
      "execution_count": 0,
      "outputs": []
    },
    {
      "cell_type": "code",
      "metadata": {
        "id": "7wzy9Oj8KWQm",
        "colab_type": "code",
        "colab": {}
      },
      "source": [
        "# PODERÁ RECEBER break \n",
        "for x in range(10):\n",
        "  print(x)\n",
        "  if x == 5:\n",
        "    print(\"fim!\")\n",
        "    break"
      ],
      "execution_count": 0,
      "outputs": []
    },
    {
      "cell_type": "code",
      "metadata": {
        "id": "IWbBKD1YKk2Q",
        "colab_type": "code",
        "colab": {}
      },
      "source": [
        "# E continue\n",
        "for x in range(10):\n",
        "  print(x)\n",
        "  if x == 5:\n",
        "    print(\"fim!\")\n",
        "    continue"
      ],
      "execution_count": 0,
      "outputs": []
    },
    {
      "cell_type": "code",
      "metadata": {
        "id": "HSNWMZpXK8rB",
        "colab_type": "code",
        "colab": {}
      },
      "source": [
        "# Loops Aninhados\n",
        "a = ['verde', 'roxa', 'amarela']\n",
        "b = ['maçã', 'uva', 'banana']\n",
        "\n",
        "for x in a:\n",
        "  for y in b:\n",
        "    print(x,y)"
      ],
      "execution_count": 0,
      "outputs": []
    },
    {
      "cell_type": "markdown",
      "metadata": {
        "id": "o0IWfvf1La6B",
        "colab_type": "text"
      },
      "source": [
        "# **>>> Exercícios**\n",
        "\n",
        "---\n",
        "\n"
      ]
    },
    {
      "cell_type": "markdown",
      "metadata": {
        "id": "eZlUhXLEPH7Z",
        "colab_type": "text"
      },
      "source": [
        "1.   Crie um algoritmo que solicite ao usuário 3 números e printe na tela a média destes (fácil)\n",
        "\n"
      ]
    },
    {
      "cell_type": "code",
      "metadata": {
        "id": "KK9OYfibPJWI",
        "colab_type": "code",
        "colab": {}
      },
      "source": [
        "# 1\n",
        "n1 = float(input(\"Informe o 1o numero: \"))\n",
        "n2 = float(input(\"Informe o 2o numero: \"))\n",
        "n3 = float(input(\"Informe o 3o numero: \"))\n",
        "\n",
        "soma = n1+n2+n3\n",
        "\n",
        "print(f\"A media é {soma/3}\")"
      ],
      "execution_count": 0,
      "outputs": []
    },
    {
      "cell_type": "markdown",
      "metadata": {
        "id": "cnqs83g0PJ7e",
        "colab_type": "text"
      },
      "source": [
        "2.   Crie um algoritmo que solicite ao usuário um número e apresente o fatorial deste número como resultado (médio)\n",
        "[Clique aqui para saber como calcular o fatorial.](https://pt.wikipedia.org/wiki/Fatorial)\n"
      ]
    },
    {
      "cell_type": "code",
      "metadata": {
        "id": "GsRfmt9YPLHx",
        "colab_type": "code",
        "colab": {}
      },
      "source": [
        "# 2\n",
        "numero = int(input(\"Informe o numero que vc quer encontrar o fatorial: \") )\n",
        "\n",
        "r=1\n",
        "for n in range(1,numero+1):\n",
        "    r *= n\n",
        "\n",
        "print(r)\n"
      ],
      "execution_count": 0,
      "outputs": []
    },
    {
      "cell_type": "markdown",
      "metadata": {
        "id": "wswmdW3OPLuE",
        "colab_type": "text"
      },
      "source": [
        "3.   Crie um algoritmo que solicite 5 números. Ao término, printar o maior e o menor número (difícil)"
      ]
    },
    {
      "cell_type": "markdown",
      "metadata": {
        "id": "FLFjxhlJPNFq",
        "colab_type": "text"
      },
      "source": [
        "## **>>> Solução**\n",
        "\n",
        "---\n",
        "\n"
      ]
    },
    {
      "cell_type": "code",
      "metadata": {
        "id": "V00cBHIOPSb9",
        "colab_type": "code",
        "colab": {}
      },
      "source": [
        "# Exercício 1\n",
        "for x in range(1,2):\n",
        "  a = int(input(f\"Digite a 1º nota: \"))\n",
        "  b = int(input(f\"Digite a 2º nota: \"))\n",
        "  c = int(input(f\"Digite a 3º nota: \"))\n",
        "d = a+b+c\n",
        "print(f\"A média destes números é de {d/3:.2f}\")"
      ],
      "execution_count": 0,
      "outputs": []
    },
    {
      "cell_type": "code",
      "metadata": {
        "id": "yq0BTImaPSs7",
        "colab_type": "code",
        "colab": {}
      },
      "source": [
        "# Exercício 2\n",
        "x = int(input(\"Digite um número inteiro: \"))\n",
        "f = 1\n",
        "a = 2\n",
        "while a <= x:\n",
        "  f = f*a\n",
        "  a += 1\n",
        "print(f\"O fatorial de {x} é {f}\")"
      ],
      "execution_count": 0,
      "outputs": []
    },
    {
      "cell_type": "code",
      "metadata": {
        "id": "YBZd65-GPS5y",
        "colab_type": "code",
        "colab": {}
      },
      "source": [
        "# Exercício 3\n",
        "n1 = int(input(\"Digite o 1º número: \"))\n",
        "n2 = int(input(\"Digite o 2º número: \"))\n",
        "n3 = int(input(\"Digite o 3º número: \"))\n",
        "n4 = int(input(\"Digite o 4º número: \"))\n",
        "n5 = int(input(\"Digite o 5º número: \"))\n",
        "maior = n1\n",
        "if n2>n1 and n2>n3 and n2>n4 and n2>n5:\n",
        "  maior = n2\n",
        "if n3>n1 and n3>n2 and n3>n4 and n3>n5:\n",
        "  maior = n3\n",
        "if n4>n1 and n4>n2 and n4>n3 and n4>n5:\n",
        "  maior = n4\n",
        "if n5>n1 and n5>n2 and n5>n3 and n5>n4:\n",
        "  maior = n5\n",
        "menor = n1\n",
        "if n2<n1 and n2<n3 and n2<n4 and n2<n5:\n",
        "  menor = n2\n",
        "if n3<n1 and n3<n2 and n3<n4 and n3<n5:\n",
        "  menor = n3\n",
        "if n4<n1 and n4<n2 and n4<n3 and n4<n5:\n",
        "  menor = n4\n",
        "if n5<n1 and n5<n2 and n5<n3 and n5<n4:\n",
        "  menor = n5\n",
        "print(f\"O maior número é o {maior} e o menor número é o {menor}\")"
      ],
      "execution_count": 0,
      "outputs": []
    }
  ]
}
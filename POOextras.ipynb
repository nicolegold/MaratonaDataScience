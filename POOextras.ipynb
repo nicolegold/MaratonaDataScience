{
  "nbformat": 4,
  "nbformat_minor": 0,
  "metadata": {
    "colab": {
      "name": "POOextras.ipynb",
      "provenance": [],
      "collapsed_sections": [
        "JxVgcRze7Y3f"
      ],
      "include_colab_link": true
    },
    "kernelspec": {
      "name": "python3",
      "display_name": "Python 3"
    }
  },
  "cells": [
    {
      "cell_type": "markdown",
      "metadata": {
        "id": "view-in-github",
        "colab_type": "text"
      },
      "source": [
        "<a href=\"https://colab.research.google.com/github/nicolegold/MaratonaDataScience/blob/master/POOextras.ipynb\" target=\"_parent\"><img src=\"https://colab.research.google.com/assets/colab-badge.svg\" alt=\"Open In Colab\"/></a>"
      ]
    },
    {
      "cell_type": "markdown",
      "metadata": {
        "id": "LKHZacgn1rnQ",
        "colab_type": "text"
      },
      "source": [
        "# **>>> POO(Extras)**\n",
        "\n",
        "---\n",
        "\n",
        "Habitue-se a usar estas ferramentas, tornando assim seu código mais conciso."
      ]
    },
    {
      "cell_type": "markdown",
      "metadata": {
        "id": "yCcQFv992UoR",
        "colab_type": "text"
      },
      "source": [
        "## >>> Funções Orientadas a Expressões"
      ]
    },
    {
      "cell_type": "markdown",
      "metadata": {
        "id": "0czpzN-Z2dL9",
        "colab_type": "text"
      },
      "source": [
        "### **LAMBDA**\n",
        "\n",
        "---\n",
        "\n",
        "função anônima e sem o \"def\";"
      ]
    },
    {
      "cell_type": "code",
      "metadata": {
        "id": "7Hb6HtKR1paI",
        "colab_type": "code",
        "colab": {
          "base_uri": "https://localhost:8080/",
          "height": 34
        },
        "outputId": "b2ce61c6-cde6-46ab-9753-8c2e8b964e5c"
      },
      "source": [
        "raiz = lambda x: x**2\n",
        "print(raiz(2))"
      ],
      "execution_count": 1,
      "outputs": [
        {
          "output_type": "stream",
          "text": [
            "4\n"
          ],
          "name": "stdout"
        }
      ]
    },
    {
      "cell_type": "markdown",
      "metadata": {
        "id": "dGzG27Hl29bs",
        "colab_type": "text"
      },
      "source": [
        "### **map(função, sequência)**\n",
        "\n",
        "---\n",
        "\n",
        "função inline que mapeia e aplica a todos elementos;"
      ]
    },
    {
      "cell_type": "code",
      "metadata": {
        "id": "MuuYqHj73N6G",
        "colab_type": "code",
        "colab": {
          "base_uri": "https://localhost:8080/",
          "height": 34
        },
        "outputId": "53b5385f-eecb-4a78-f720-e53c93bb2ec3"
      },
      "source": [
        "lista = [1,2,3,4,5,6,7,8,9,10]\n",
        "print(map(lambda x: x**2, lista))"
      ],
      "execution_count": 2,
      "outputs": [
        {
          "output_type": "stream",
          "text": [
            "<map object at 0x7fc7e3585eb8>\n"
          ],
          "name": "stdout"
        }
      ]
    },
    {
      "cell_type": "code",
      "metadata": {
        "id": "w1U-Vjfv3cxB",
        "colab_type": "code",
        "colab": {
          "base_uri": "https://localhost:8080/",
          "height": 34
        },
        "outputId": "b09ee77f-070e-4c86-fc05-32078bb49eb0"
      },
      "source": [
        "# Para acessar os valores do objeto e não o objeto, declare como lista\n",
        "print(list(map(lambda x: x**2, lista)))"
      ],
      "execution_count": 3,
      "outputs": [
        {
          "output_type": "stream",
          "text": [
            "[1, 4, 9, 16, 25, 36, 49, 64, 81, 100]\n"
          ],
          "name": "stdout"
        }
      ]
    },
    {
      "cell_type": "code",
      "metadata": {
        "id": "b8JpqQyr4l72",
        "colab_type": "code",
        "colab": {
          "base_uri": "https://localhost:8080/",
          "height": 442
        },
        "outputId": "33b1cfff-6193-4b6d-c0de-90c580c7b71a"
      },
      "source": [
        "help(map)"
      ],
      "execution_count": 4,
      "outputs": [
        {
          "output_type": "stream",
          "text": [
            "Help on class map in module builtins:\n",
            "\n",
            "class map(object)\n",
            " |  map(func, *iterables) --> map object\n",
            " |  \n",
            " |  Make an iterator that computes the function using arguments from\n",
            " |  each of the iterables.  Stops when the shortest iterable is exhausted.\n",
            " |  \n",
            " |  Methods defined here:\n",
            " |  \n",
            " |  __getattribute__(self, name, /)\n",
            " |      Return getattr(self, name).\n",
            " |  \n",
            " |  __iter__(self, /)\n",
            " |      Implement iter(self).\n",
            " |  \n",
            " |  __new__(*args, **kwargs) from builtins.type\n",
            " |      Create and return a new object.  See help(type) for accurate signature.\n",
            " |  \n",
            " |  __next__(self, /)\n",
            " |      Implement next(self).\n",
            " |  \n",
            " |  __reduce__(...)\n",
            " |      Return state information for pickling.\n",
            "\n"
          ],
          "name": "stdout"
        }
      ]
    },
    {
      "cell_type": "markdown",
      "metadata": {
        "id": "n5b2ykL13tjs",
        "colab_type": "text"
      },
      "source": [
        "### **reduce(função, sequência)**\n",
        "\n",
        "---\n",
        "\n",
        "função inline que reduz a sequência a um único valor"
      ]
    },
    {
      "cell_type": "code",
      "metadata": {
        "id": "f_JoHejl30LC",
        "colab_type": "code",
        "colab": {
          "base_uri": "https://localhost:8080/",
          "height": 34
        },
        "outputId": "70828878-2017-47f9-ce5b-7174373f5742"
      },
      "source": [
        "from functools import reduce\n",
        "print(reduce((lambda x, y: x*y), [1,2,3,4]))"
      ],
      "execution_count": 5,
      "outputs": [
        {
          "output_type": "stream",
          "text": [
            "24\n"
          ],
          "name": "stdout"
        }
      ]
    },
    {
      "cell_type": "code",
      "metadata": {
        "id": "GTuJ1e4F4dwd",
        "colab_type": "code",
        "colab": {
          "base_uri": "https://localhost:8080/",
          "height": 221
        },
        "outputId": "7c4f0136-8814-4eef-fb1b-ad963e20c9f4"
      },
      "source": [
        "help(reduce)"
      ],
      "execution_count": 6,
      "outputs": [
        {
          "output_type": "stream",
          "text": [
            "Help on built-in function reduce in module _functools:\n",
            "\n",
            "reduce(...)\n",
            "    reduce(function, sequence[, initial]) -> value\n",
            "    \n",
            "    Apply a function of two arguments cumulatively to the items of a sequence,\n",
            "    from left to right, so as to reduce the sequence to a single value.\n",
            "    For example, reduce(lambda x, y: x+y, [1, 2, 3, 4, 5]) calculates\n",
            "    ((((1+2)+3)+4)+5).  If initial is present, it is placed before the items\n",
            "    of the sequence in the calculation, and serves as a default when the\n",
            "    sequence is empty.\n",
            "\n"
          ],
          "name": "stdout"
        }
      ]
    },
    {
      "cell_type": "markdown",
      "metadata": {
        "id": "IlUMukSz45nj",
        "colab_type": "text"
      },
      "source": [
        "### **filter(função, sequência)**\n",
        "\n",
        "---\n",
        "\n",
        "função inline que filtra os elementos da sequência que retornam True"
      ]
    },
    {
      "cell_type": "code",
      "metadata": {
        "id": "E2Aso6Fi45GW",
        "colab_type": "code",
        "colab": {
          "base_uri": "https://localhost:8080/",
          "height": 34
        },
        "outputId": "f7fd67f6-5eab-4d21-9696-5b9daed0f5c3"
      },
      "source": [
        "lista = [-1,-2,-3,0,1,2,3]\n",
        "print(list(filter(lambda x: x<0,lista)))"
      ],
      "execution_count": 7,
      "outputs": [
        {
          "output_type": "stream",
          "text": [
            "[-1, -2, -3]\n"
          ],
          "name": "stdout"
        }
      ]
    },
    {
      "cell_type": "markdown",
      "metadata": {
        "id": "-S6bupfZ5gO2",
        "colab_type": "text"
      },
      "source": [
        "### **List Comprehension**\n",
        "\n",
        "---\n",
        "\n",
        "Desenvolve loops dentro de uma sequência e possui desempenho superior ao \"For\"."
      ]
    },
    {
      "cell_type": "code",
      "metadata": {
        "id": "v33eOOIc5yUf",
        "colab_type": "code",
        "colab": {
          "base_uri": "https://localhost:8080/",
          "height": 34
        },
        "outputId": "8a0f1816-2867-4fc2-bbeb-918285262c3e"
      },
      "source": [
        "print(list(x for x in range(30) if x % 3 == 0))"
      ],
      "execution_count": 8,
      "outputs": [
        {
          "output_type": "stream",
          "text": [
            "[0, 3, 6, 9, 12, 15, 18, 21, 24, 27]\n"
          ],
          "name": "stdout"
        }
      ]
    },
    {
      "cell_type": "markdown",
      "metadata": {
        "id": "3eKqsaEH5jsk",
        "colab_type": "text"
      },
      "source": [
        "### **Zip**\n",
        "\n",
        "---\n",
        "\n",
        "função inline que zipa 2 sequências retornando uma com o número de elementos da menor"
      ]
    },
    {
      "cell_type": "code",
      "metadata": {
        "id": "Fq0SM5GO5zfT",
        "colab_type": "code",
        "colab": {
          "base_uri": "https://localhost:8080/",
          "height": 34
        },
        "outputId": "15880497-6960-4dcb-d389-ac10070d26ae"
      },
      "source": [
        "# as sequências devem conter o mesmo número de elementos\n",
        "s1 = [1,2,3]\n",
        "s2 = [\"um\", \"dois\", \"três\"]\n",
        "print(list(zip(s1,s2)))"
      ],
      "execution_count": 9,
      "outputs": [
        {
          "output_type": "stream",
          "text": [
            "[(1, 'um'), (2, 'dois'), (3, 'três')]\n"
          ],
          "name": "stdout"
        }
      ]
    },
    {
      "cell_type": "markdown",
      "metadata": {
        "id": "BjjkSCWJ6LEF",
        "colab_type": "text"
      },
      "source": [
        "### **Enumerate**\n",
        "\n",
        "---\n",
        "\n",
        "Numera valores com o índice de cada valor"
      ]
    },
    {
      "cell_type": "code",
      "metadata": {
        "id": "sool_awQ6SuJ",
        "colab_type": "code",
        "colab": {
          "base_uri": "https://localhost:8080/",
          "height": 34
        },
        "outputId": "ea6c14f6-1180-4178-a06b-1549fba745c9"
      },
      "source": [
        "a1 = \"Alô, Mundo\"\n",
        "print(list(enumerate(a1)))"
      ],
      "execution_count": 10,
      "outputs": [
        {
          "output_type": "stream",
          "text": [
            "[(0, 'A'), (1, 'l'), (2, 'ô'), (3, ','), (4, ' '), (5, 'M'), (6, 'u'), (7, 'n'), (8, 'd'), (9, 'o')]\n"
          ],
          "name": "stdout"
        }
      ]
    }
  ]
}
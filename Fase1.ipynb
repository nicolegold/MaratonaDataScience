{
  "nbformat": 4,
  "nbformat_minor": 0,
  "metadata": {
    "colab": {
      "name": "Fase1.ipynb",
      "provenance": [],
      "include_colab_link": true
    },
    "kernelspec": {
      "name": "python3",
      "display_name": "Python 3"
    }
  },
  "cells": [
    {
      "cell_type": "markdown",
      "metadata": {
        "id": "view-in-github",
        "colab_type": "text"
      },
      "source": [
        "<a href=\"https://colab.research.google.com/github/nicolegold/MaratonaDataScience/blob/master/Fase1.ipynb\" target=\"_parent\"><img src=\"https://colab.research.google.com/assets/colab-badge.svg\" alt=\"Open In Colab\"/></a>"
      ]
    },
    {
      "cell_type": "markdown",
      "metadata": {
        "id": "CYNAmoj4zSXl",
        "colab_type": "text"
      },
      "source": [
        "Crie um algoritmo em Python que mostre a mensagem \"Alo mundo\" na tela."
      ]
    },
    {
      "cell_type": "code",
      "metadata": {
        "id": "ViAfpy3GzPN-",
        "colab_type": "code",
        "colab": {
          "base_uri": "https://localhost:8080/",
          "height": 34
        },
        "outputId": "274d8a89-3b9c-4fcd-d74c-6ccd0bc0758b"
      },
      "source": [
        "print(\"Alo mundo\")"
      ],
      "execution_count": 2,
      "outputs": [
        {
          "output_type": "stream",
          "text": [
            "Alo mundo\n"
          ],
          "name": "stdout"
        }
      ]
    },
    {
      "cell_type": "markdown",
      "metadata": {
        "id": "gdMis92izSmQ",
        "colab_type": "text"
      },
      "source": [
        "Crie um algoritmo em Python que peça dois números e imprima a soma."
      ]
    },
    {
      "cell_type": "code",
      "metadata": {
        "id": "BFpWkdCBz_zh",
        "colab_type": "code",
        "colab": {
          "base_uri": "https://localhost:8080/",
          "height": 68
        },
        "outputId": "1a51745f-ebb2-4f34-9205-b67fd8aaeeb3"
      },
      "source": [
        "n1 = int(input(\"Informe o 1o número: \"))\n",
        "n2 = int(input(\"Informe o 2o número: \"))\n",
        "print(f\"A soma dos números é:\",n1+n2)\n"
      ],
      "execution_count": 5,
      "outputs": [
        {
          "output_type": "stream",
          "text": [
            "Informe o 1o número: 5\n",
            "Informe o 2o número: 5\n",
            "A soma dos números é: 10\n"
          ],
          "name": "stdout"
        }
      ]
    },
    {
      "cell_type": "markdown",
      "metadata": {
        "id": "E_0l_Vx6zSo2",
        "colab_type": "text"
      },
      "source": [
        "Crie um algoritmo em Python que peça um número e então mostre a mensagem O número informado foi [número]."
      ]
    },
    {
      "cell_type": "code",
      "metadata": {
        "id": "KwJf7XZS0AZW",
        "colab_type": "code",
        "colab": {
          "base_uri": "https://localhost:8080/",
          "height": 51
        },
        "outputId": "d15da9e2-8761-4b5e-c4d9-0965d6dc081f"
      },
      "source": [
        "n = int(input(\"Informe um número: \"))\n",
        "print(f\"O numero informado foi:\",n)"
      ],
      "execution_count": 6,
      "outputs": [
        {
          "output_type": "stream",
          "text": [
            "Informe um número: 8\n",
            "O numero informado foi: 8\n"
          ],
          "name": "stdout"
        }
      ]
    },
    {
      "cell_type": "markdown",
      "metadata": {
        "id": "1i4VCiiczSrL",
        "colab_type": "text"
      },
      "source": [
        "Crie um algoritmo em Python que converta metros para centímetros."
      ]
    },
    {
      "cell_type": "code",
      "metadata": {
        "id": "yoW67hjA0BHy",
        "colab_type": "code",
        "colab": {
          "base_uri": "https://localhost:8080/",
          "height": 34
        },
        "outputId": "3673bd37-54b7-4d79-b0db-c57ccbf77f3a"
      },
      "source": [
        "print(f\"(Convertendo {n} para centímetros: \",n*0.01)"
      ],
      "execution_count": 8,
      "outputs": [
        {
          "output_type": "stream",
          "text": [
            "(Convertendo 8 para centímetros:  0.08\n"
          ],
          "name": "stdout"
        }
      ]
    },
    {
      "cell_type": "markdown",
      "metadata": {
        "id": "4ep7kezvzStO",
        "colab_type": "text"
      },
      "source": [
        "Crie um algoritmo em Python que peça as 4 notas bimestrais e mostre a média."
      ]
    },
    {
      "cell_type": "code",
      "metadata": {
        "id": "6K6IHWdr0Blt",
        "colab_type": "code",
        "colab": {}
      },
      "source": [
        "n1 = float(input(\"Informe a nota 1: \"))\n",
        "n2 = float(input(\"Informe a nota 2: \"))\n",
        "n3 = float(input(\"Informe a nota 3: \"))\n",
        "n4 = float(input(\"Informe a nota 4: \"))\n",
        "print(f\"A média das 4 notas é: \", (n1+n2+n3+n4)/4)"
      ],
      "execution_count": 0,
      "outputs": []
    },
    {
      "cell_type": "markdown",
      "metadata": {
        "id": "u6__NaXqzeYg",
        "colab_type": "text"
      },
      "source": [
        "Crie um algoritmo em Python que peça o raio de um círculo, calcule e mostre sua área."
      ]
    },
    {
      "cell_type": "code",
      "metadata": {
        "id": "mm2L7g3x0Cfx",
        "colab_type": "code",
        "colab": {}
      },
      "source": [
        "r = float(input(\"Informe o raio do cículo: \"))\n",
        "print(f\"A área com o raio {r} é:\", 2 * 3.14 * r)"
      ],
      "execution_count": 0,
      "outputs": []
    },
    {
      "cell_type": "markdown",
      "metadata": {
        "id": "lIlfG-ATzgOr",
        "colab_type": "text"
      },
      "source": [
        "Crie um algoritmo em Python que calcule a área de um quadrado, em seguida mostre o dobro desta área para o usuário."
      ]
    },
    {
      "cell_type": "code",
      "metadata": {
        "id": "-y4pB6br0DD_",
        "colab_type": "code",
        "colab": {
          "base_uri": "https://localhost:8080/",
          "height": 51
        },
        "outputId": "3d3cbd7f-b606-4700-a0d2-bc2838a8097b"
      },
      "source": [
        "q = float(input(\"Informe o lado do quadrado: \"))\n",
        "area=q*q\n",
        "print(f\"O dobro desde área é:\", 2*area)"
      ],
      "execution_count": 16,
      "outputs": [
        {
          "output_type": "stream",
          "text": [
            "Informe o lado do quadrado: 2\n",
            "O dobro desde área é: 8.0\n"
          ],
          "name": "stdout"
        }
      ]
    },
    {
      "cell_type": "markdown",
      "metadata": {
        "id": "Vj4OXsJQziu_",
        "colab_type": "text"
      },
      "source": [
        "Crie um algoritmo em Python que pergunte quanto você ganha por hora e o número de horas trabalhadas no mês. Calcule e mostre o total do seu salário no referido mês.\n"
      ]
    },
    {
      "cell_type": "code",
      "metadata": {
        "id": "RmApGpg30D00",
        "colab_type": "code",
        "colab": {
          "base_uri": "https://localhost:8080/",
          "height": 68
        },
        "outputId": "7f0c9207-24e4-4bd3-c9bd-d57a101a7166"
      },
      "source": [
        "ganho = float(input(\"Informe quanto vc ganha por hora de trabalho: \"))\n",
        "horas = float(input(\"Informe quantas horas vc trabalha por mes: \"))\n",
        "print(f\"Seu saário no mês é de:\", ganho*horas)"
      ],
      "execution_count": 18,
      "outputs": [
        {
          "output_type": "stream",
          "text": [
            "Informe quanto vc ganha por hora de trabalho: 1500\n",
            "Informe quantas horas vc trabalha por mes: 90\n",
            "Seu saário no mês é de: 135000.0\n"
          ],
          "name": "stdout"
        }
      ]
    },
    {
      "cell_type": "markdown",
      "metadata": {
        "id": "e7id8Ewgzlow",
        "colab_type": "text"
      },
      "source": [
        "Crie um algoritmo em Python que peça a temperatura em graus Farenheit, transforme e mostre a temperatura em graus Celsius.\n",
        "C = (5 * (F-32) / 9)."
      ]
    },
    {
      "cell_type": "code",
      "metadata": {
        "id": "Kl0ainsv0Eif",
        "colab_type": "code",
        "colab": {}
      },
      "source": [
        "f = float(input(\"Informe a temperatura em graus Farenheit: \"))\n",
        "print(f\"Convertendo {f} para graus Celsius:\", (5*(f-32)/9))"
      ],
      "execution_count": 0,
      "outputs": []
    },
    {
      "cell_type": "markdown",
      "metadata": {
        "id": "mFCgXRPaznno",
        "colab_type": "text"
      },
      "source": [
        "Crie um algoritmo em Python que peça a temperatura em graus Celsius, transforme e mostre em graus Farenheit."
      ]
    },
    {
      "cell_type": "code",
      "metadata": {
        "id": "xEAAHRi00FS8",
        "colab_type": "code",
        "colab": {
          "base_uri": "https://localhost:8080/",
          "height": 51
        },
        "outputId": "d2595667-e964-4d52-fbe6-2ad87e1db767"
      },
      "source": [
        "c = float(input(\"Informe a temperatura em graus Celsius: \"))\n",
        "print(f\"Convertendo {c} para graus Farenheit:\", ((c*9/5)+32))"
      ],
      "execution_count": 26,
      "outputs": [
        {
          "output_type": "stream",
          "text": [
            "Informe a temperatura em graus Celsius: 5\n",
            "Convertendo 5.0 para graus Farenheit: 41.0\n"
          ],
          "name": "stdout"
        }
      ]
    },
    {
      "cell_type": "markdown",
      "metadata": {
        "id": "j3fdhu-8zqu9",
        "colab_type": "text"
      },
      "source": [
        "Crie um algoritmo em Python que peça 2 números inteiros e um número real. Calcule e mostre:\n",
        "* a soma do dobro do primeiro com metade do segundo .\n",
        "* a soma do triplo do primeiro com o terceiro.\n",
        "* o terceiro elevado ao cubo."
      ]
    },
    {
      "cell_type": "code",
      "metadata": {
        "id": "ZEqZrKjt0F5B",
        "colab_type": "code",
        "colab": {
          "base_uri": "https://localhost:8080/",
          "height": 119
        },
        "outputId": "672f49df-b5e3-4911-bb7d-dc37e1bb1e4d"
      },
      "source": [
        "n1 = int(input(\"Informe o 1o numero: \"))\n",
        "n2 = int(input(\"Informe o 2o numero: \"))\n",
        "n3 = float(input(\"Informe o 2o numero: \"))\n",
        "\n",
        "print(f\":\", ((2*n1)+(n2/3)))\n",
        "print(f\":\", ((n1*3)+n3))\n",
        "print(f\":\", (n3**3))\n"
      ],
      "execution_count": 28,
      "outputs": [
        {
          "output_type": "stream",
          "text": [
            "Informe o 1o numero: 1\n",
            "Informe o 2o numero: 2\n",
            "Informe o 2o numero: 2\n",
            ": 2.6666666666666665\n",
            ": 5.0\n",
            ": 8.0\n"
          ],
          "name": "stdout"
        }
      ]
    }
  ]
}